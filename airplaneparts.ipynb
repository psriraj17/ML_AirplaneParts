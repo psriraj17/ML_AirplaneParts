{
  "nbformat": 4,
  "nbformat_minor": 0,
  "metadata": {
    "colab": {
      "provenance": [],
      "machine_shape": "hm",
      "authorship_tag": "ABX9TyO4SE5xNTMZWY+n7DG3dmk4",
      "include_colab_link": true
    },
    "kernelspec": {
      "name": "python3",
      "display_name": "Python 3"
    },
    "language_info": {
      "name": "python"
    },
    "accelerator": "GPU",
    "gpuClass": "standard"
  },
  "cells": [
    {
      "cell_type": "markdown",
      "metadata": {
        "id": "view-in-github",
        "colab_type": "text"
      },
      "source": [
        "<a href=\"https://colab.research.google.com/github/psriraj17/ML_AirplaneParts/blob/main/airplaneparts.ipynb\" target=\"_parent\"><img src=\"https://colab.research.google.com/assets/colab-badge.svg\" alt=\"Open In Colab\"/></a>"
      ]
    },
    {
      "cell_type": "markdown",
      "source": [
        "# Machine Learning model for Components to predict the Machine run-time hours and Debur hours.\n",
        "\n"
      ],
      "metadata": {
        "id": "8plhnbaBwude"
      }
    },
    {
      "cell_type": "markdown",
      "source": [
        "This notebook is developed to implement Machine Learning models onto a real-time dataset to predict the Machining time and Debur time for a particular component which varies with the dimensions of the material and number of jobs required. The dataset you see in this notebook is acquired from Domaille Companies, few attributes/variables were modified for privacy reasons accordingly.\n",
        "\n",
        "There are two phases for the manufacturing – machining (actually cutting the material) and then deburr (cleaning up the cut material).\n",
        "Here is what the target variables actually mean.\n",
        "\n",
        "Machining times:\n",
        "\n",
        "Primary – Tmp (hrs): template hours (roughly “how long does the computer say this job should take?”)\n",
        "\n",
        "Primary – Est (hrs): estimated hours, should match Tmp\n",
        "\n",
        "Primary – Act (hrs): the actual hours averaged for the last three times the job ran\n",
        "\n",
        "Deburr times:\n",
        "\n",
        "Deburr – Tmp (hrs): template hours\n",
        "\n",
        "Deburr – Est (hrs): estimated hours, should largely match Tmp\n",
        "\n",
        "Deburr – Act (hrs): the actual hours averaged for the last three times the job ran\n",
        "\n",
        "These target variables are predicted wrt some of the features like, material type, material form, dimensions of the material for particular job and etc. \n",
        "\n",
        "The predictions are made using two Non-linear Regression models i.e., KNNRegressor (sci-kit learn) where we consider only the Numerical data of the dataset to predict. Likewise, XGBRegressor (XGBoost) where we consider both the numerical and categorical data for predictions.\n",
        "\n",
        "The Metric for evaluation is average hours difference the model is predicting that the job can be done, along with this we are also determining the model performance using model.score, to check if co-relation exists between the features and labels."
      ],
      "metadata": {
        "id": "H57_zJvhxJN7"
      }
    },
    {
      "cell_type": "code",
      "execution_count": 1,
      "metadata": {
        "colab": {
          "base_uri": "https://localhost:8080/"
        },
        "id": "_ShVj_MpRBGr",
        "outputId": "7ee4a0ce-875f-4dfd-a22b-dfc5de5bc830"
      },
      "outputs": [
        {
          "output_type": "stream",
          "name": "stdout",
          "text": [
            "Mounted at /content/drive\n",
            "/content/drive/MyDrive\n"
          ]
        }
      ],
      "source": [
        "from google.colab import drive\n",
        "drive.mount('/content/drive')\n",
        "%cd /content/drive/'MyDrive'"
      ]
    },
    {
      "cell_type": "markdown",
      "source": [
        "Importing all the required packages for implementation."
      ],
      "metadata": {
        "id": "abhauXcR2XgY"
      }
    },
    {
      "cell_type": "code",
      "source": [
        "import pandas as pd  \n",
        "import numpy as np\n",
        "from sklearn.model_selection import train_test_split\n",
        "from sklearn.svm import SVR\n",
        "from sklearn.neighbors import KNeighborsRegressor\n",
        "from xgboost import XGBRegressor\n",
        "from sklearn.model_selection import GridSearchCV\n",
        "from sklearn.metrics import roc_auc_score\n",
        "from sklearn.preprocessing import LabelEncoder\n",
        "from sklearn.metrics import mean_squared_error \n",
        "import matplotlib.pyplot as plt"
      ],
      "metadata": {
        "id": "bxJoe9LMUrrY"
      },
      "execution_count": 2,
      "outputs": []
    },
    {
      "cell_type": "markdown",
      "source": [
        "# Data Loading\n",
        "\n",
        "Data is read from the file and checked if there exists NaN\" values and eliminated if found."
      ],
      "metadata": {
        "id": "hd-hcpoh2hYK"
      }
    },
    {
      "cell_type": "code",
      "source": [
        "\n",
        "Data =  pd.read_excel('/content/drive/MyDrive/Colab Notebooks/Airplane Parts/Material Size with Hours - Cleansed 20221112.xlsx', header=0)#, quoting = csv.QUOTE_NONE\n",
        "Data= Data[:-1]\n",
        "Data = Data.dropna(axis=0)\n"
      ],
      "metadata": {
        "id": "pw4HGOg6UzVw"
      },
      "execution_count": 3,
      "outputs": []
    },
    {
      "cell_type": "code",
      "source": [
        "Data"
      ],
      "metadata": {
        "colab": {
          "base_uri": "https://localhost:8080/",
          "height": 485
        },
        "id": "wtu-Ae8YppU6",
        "outputId": "b5619ef6-ef89-4cd9-b556-3047d2e0da97"
      },
      "execution_count": 4,
      "outputs": [
        {
          "output_type": "execute_result",
          "data": {
            "text/plain": [
              "     Item  Class Sector  Platform Label     Mtl_Type     Mtl_Form  \\\n",
              "0       2  5AXLS    Com            22.0  Al_x000D_\\n  PL_x000D_\\n   \n",
              "1       3  5AXLS    Com            22.0  Al_x000D_\\n  PL_x000D_\\n   \n",
              "2       4  5AXLS    Com            22.0  Al_x000D_\\n  PL_x000D_\\n   \n",
              "3       5  5AXLS    Com            22.0  Al_x000D_\\n  PL_x000D_\\n   \n",
              "4       6  SNKHS    Mil             6.0  Ti_x000D_\\n  EX_x000D_\\n   \n",
              "..    ...    ...    ...             ...          ...          ...   \n",
              "682  1106  LATHE    Mil            19.0  CA_x000D_\\n  BR_x000D_\\n   \n",
              "683  1107  SNKHS    Mil            19.0  Al_x000D_\\n  PL_x000D_\\n   \n",
              "686  1112   MAG1    MIL            17.0  Al_x000D_\\n  PL_x000D_\\n   \n",
              "687  1114   MAG1    Mil            17.0  Al_x000D_\\n  PL_x000D_\\n   \n",
              "688  1116  SNKHS    Mil            17.0  Al_x000D_\\n  PL_x000D_\\n   \n",
              "\n",
              "     Mtl_Thick (in)  Mtl_Width (in)  Mtl_Length (in)  Mtl_Makes  Mtl_Axes  \\\n",
              "0              2.75           25.00            42.00        2.0       5.0   \n",
              "1              2.00           11.88            18.00        1.0       5.0   \n",
              "2              2.75           25.00            42.00        2.0       5.0   \n",
              "3              2.00           11.88            18.00        1.0       5.0   \n",
              "4              2.00            5.25            68.50        1.0       5.0   \n",
              "..              ...             ...              ...        ...       ...   \n",
              "682            4.00            2.00             2.00        1.0       5.0   \n",
              "683            1.25           32.00            46.25        1.0       3.0   \n",
              "686            2.75           11.75            40.00        1.0       5.0   \n",
              "687            3.00           13.00            39.50        1.0       0.0   \n",
              "688            1.50           31.00            43.00        1.0       0.0   \n",
              "\n",
              "     Primary - Tmp (hrs)  Primary - Est (hrs)  Primary - Act (hrs)  \\\n",
              "0               4.000000             4.000000             5.241667   \n",
              "1               4.000000             4.000000             3.005000   \n",
              "2               4.000000             4.000000             5.177500   \n",
              "3               4.000000             4.000000             2.987500   \n",
              "4               4.000000             2.666667             2.825556   \n",
              "..                   ...                  ...                  ...   \n",
              "682             0.425000             0.482000             0.472718   \n",
              "683             5.230000             5.230000            10.074167   \n",
              "686             1.783333             1.783333             6.967222   \n",
              "687             1.460000             1.460000             4.531667   \n",
              "688             5.835000             5.835000            11.350000   \n",
              "\n",
              "     Deburr - Tmp (hrs)  Deburr - Est (hrs)  Deburr - Act (hrs)  \n",
              "0                  1.00            1.000000            1.911667  \n",
              "1                  0.50            0.500000            1.038333  \n",
              "2                  0.50            0.500000            1.993333  \n",
              "3                  0.50            0.500000            0.976667  \n",
              "4                  0.00            0.000000            0.598125  \n",
              "..                  ...                 ...                 ...  \n",
              "682                0.17            0.170000            0.128632  \n",
              "683                2.67            2.670000            1.502000  \n",
              "686                1.47            1.470000            2.071667  \n",
              "687                1.35            1.350000            2.527500  \n",
              "688                3.07            1.023333            3.391667  \n",
              "\n",
              "[624 rows x 17 columns]"
            ],
            "text/html": [
              "\n",
              "  <div id=\"df-3e9404bb-2120-4f7b-9e44-19d97c60ff58\">\n",
              "    <div class=\"colab-df-container\">\n",
              "      <div>\n",
              "<style scoped>\n",
              "    .dataframe tbody tr th:only-of-type {\n",
              "        vertical-align: middle;\n",
              "    }\n",
              "\n",
              "    .dataframe tbody tr th {\n",
              "        vertical-align: top;\n",
              "    }\n",
              "\n",
              "    .dataframe thead th {\n",
              "        text-align: right;\n",
              "    }\n",
              "</style>\n",
              "<table border=\"1\" class=\"dataframe\">\n",
              "  <thead>\n",
              "    <tr style=\"text-align: right;\">\n",
              "      <th></th>\n",
              "      <th>Item</th>\n",
              "      <th>Class</th>\n",
              "      <th>Sector</th>\n",
              "      <th>Platform Label</th>\n",
              "      <th>Mtl_Type</th>\n",
              "      <th>Mtl_Form</th>\n",
              "      <th>Mtl_Thick (in)</th>\n",
              "      <th>Mtl_Width (in)</th>\n",
              "      <th>Mtl_Length (in)</th>\n",
              "      <th>Mtl_Makes</th>\n",
              "      <th>Mtl_Axes</th>\n",
              "      <th>Primary - Tmp (hrs)</th>\n",
              "      <th>Primary - Est (hrs)</th>\n",
              "      <th>Primary - Act (hrs)</th>\n",
              "      <th>Deburr - Tmp (hrs)</th>\n",
              "      <th>Deburr - Est (hrs)</th>\n",
              "      <th>Deburr - Act (hrs)</th>\n",
              "    </tr>\n",
              "  </thead>\n",
              "  <tbody>\n",
              "    <tr>\n",
              "      <th>0</th>\n",
              "      <td>2</td>\n",
              "      <td>5AXLS</td>\n",
              "      <td>Com</td>\n",
              "      <td>22.0</td>\n",
              "      <td>Al_x000D_\\n</td>\n",
              "      <td>PL_x000D_\\n</td>\n",
              "      <td>2.75</td>\n",
              "      <td>25.00</td>\n",
              "      <td>42.00</td>\n",
              "      <td>2.0</td>\n",
              "      <td>5.0</td>\n",
              "      <td>4.000000</td>\n",
              "      <td>4.000000</td>\n",
              "      <td>5.241667</td>\n",
              "      <td>1.00</td>\n",
              "      <td>1.000000</td>\n",
              "      <td>1.911667</td>\n",
              "    </tr>\n",
              "    <tr>\n",
              "      <th>1</th>\n",
              "      <td>3</td>\n",
              "      <td>5AXLS</td>\n",
              "      <td>Com</td>\n",
              "      <td>22.0</td>\n",
              "      <td>Al_x000D_\\n</td>\n",
              "      <td>PL_x000D_\\n</td>\n",
              "      <td>2.00</td>\n",
              "      <td>11.88</td>\n",
              "      <td>18.00</td>\n",
              "      <td>1.0</td>\n",
              "      <td>5.0</td>\n",
              "      <td>4.000000</td>\n",
              "      <td>4.000000</td>\n",
              "      <td>3.005000</td>\n",
              "      <td>0.50</td>\n",
              "      <td>0.500000</td>\n",
              "      <td>1.038333</td>\n",
              "    </tr>\n",
              "    <tr>\n",
              "      <th>2</th>\n",
              "      <td>4</td>\n",
              "      <td>5AXLS</td>\n",
              "      <td>Com</td>\n",
              "      <td>22.0</td>\n",
              "      <td>Al_x000D_\\n</td>\n",
              "      <td>PL_x000D_\\n</td>\n",
              "      <td>2.75</td>\n",
              "      <td>25.00</td>\n",
              "      <td>42.00</td>\n",
              "      <td>2.0</td>\n",
              "      <td>5.0</td>\n",
              "      <td>4.000000</td>\n",
              "      <td>4.000000</td>\n",
              "      <td>5.177500</td>\n",
              "      <td>0.50</td>\n",
              "      <td>0.500000</td>\n",
              "      <td>1.993333</td>\n",
              "    </tr>\n",
              "    <tr>\n",
              "      <th>3</th>\n",
              "      <td>5</td>\n",
              "      <td>5AXLS</td>\n",
              "      <td>Com</td>\n",
              "      <td>22.0</td>\n",
              "      <td>Al_x000D_\\n</td>\n",
              "      <td>PL_x000D_\\n</td>\n",
              "      <td>2.00</td>\n",
              "      <td>11.88</td>\n",
              "      <td>18.00</td>\n",
              "      <td>1.0</td>\n",
              "      <td>5.0</td>\n",
              "      <td>4.000000</td>\n",
              "      <td>4.000000</td>\n",
              "      <td>2.987500</td>\n",
              "      <td>0.50</td>\n",
              "      <td>0.500000</td>\n",
              "      <td>0.976667</td>\n",
              "    </tr>\n",
              "    <tr>\n",
              "      <th>4</th>\n",
              "      <td>6</td>\n",
              "      <td>SNKHS</td>\n",
              "      <td>Mil</td>\n",
              "      <td>6.0</td>\n",
              "      <td>Ti_x000D_\\n</td>\n",
              "      <td>EX_x000D_\\n</td>\n",
              "      <td>2.00</td>\n",
              "      <td>5.25</td>\n",
              "      <td>68.50</td>\n",
              "      <td>1.0</td>\n",
              "      <td>5.0</td>\n",
              "      <td>4.000000</td>\n",
              "      <td>2.666667</td>\n",
              "      <td>2.825556</td>\n",
              "      <td>0.00</td>\n",
              "      <td>0.000000</td>\n",
              "      <td>0.598125</td>\n",
              "    </tr>\n",
              "    <tr>\n",
              "      <th>...</th>\n",
              "      <td>...</td>\n",
              "      <td>...</td>\n",
              "      <td>...</td>\n",
              "      <td>...</td>\n",
              "      <td>...</td>\n",
              "      <td>...</td>\n",
              "      <td>...</td>\n",
              "      <td>...</td>\n",
              "      <td>...</td>\n",
              "      <td>...</td>\n",
              "      <td>...</td>\n",
              "      <td>...</td>\n",
              "      <td>...</td>\n",
              "      <td>...</td>\n",
              "      <td>...</td>\n",
              "      <td>...</td>\n",
              "      <td>...</td>\n",
              "    </tr>\n",
              "    <tr>\n",
              "      <th>682</th>\n",
              "      <td>1106</td>\n",
              "      <td>LATHE</td>\n",
              "      <td>Mil</td>\n",
              "      <td>19.0</td>\n",
              "      <td>CA_x000D_\\n</td>\n",
              "      <td>BR_x000D_\\n</td>\n",
              "      <td>4.00</td>\n",
              "      <td>2.00</td>\n",
              "      <td>2.00</td>\n",
              "      <td>1.0</td>\n",
              "      <td>5.0</td>\n",
              "      <td>0.425000</td>\n",
              "      <td>0.482000</td>\n",
              "      <td>0.472718</td>\n",
              "      <td>0.17</td>\n",
              "      <td>0.170000</td>\n",
              "      <td>0.128632</td>\n",
              "    </tr>\n",
              "    <tr>\n",
              "      <th>683</th>\n",
              "      <td>1107</td>\n",
              "      <td>SNKHS</td>\n",
              "      <td>Mil</td>\n",
              "      <td>19.0</td>\n",
              "      <td>Al_x000D_\\n</td>\n",
              "      <td>PL_x000D_\\n</td>\n",
              "      <td>1.25</td>\n",
              "      <td>32.00</td>\n",
              "      <td>46.25</td>\n",
              "      <td>1.0</td>\n",
              "      <td>3.0</td>\n",
              "      <td>5.230000</td>\n",
              "      <td>5.230000</td>\n",
              "      <td>10.074167</td>\n",
              "      <td>2.67</td>\n",
              "      <td>2.670000</td>\n",
              "      <td>1.502000</td>\n",
              "    </tr>\n",
              "    <tr>\n",
              "      <th>686</th>\n",
              "      <td>1112</td>\n",
              "      <td>MAG1</td>\n",
              "      <td>MIL</td>\n",
              "      <td>17.0</td>\n",
              "      <td>Al_x000D_\\n</td>\n",
              "      <td>PL_x000D_\\n</td>\n",
              "      <td>2.75</td>\n",
              "      <td>11.75</td>\n",
              "      <td>40.00</td>\n",
              "      <td>1.0</td>\n",
              "      <td>5.0</td>\n",
              "      <td>1.783333</td>\n",
              "      <td>1.783333</td>\n",
              "      <td>6.967222</td>\n",
              "      <td>1.47</td>\n",
              "      <td>1.470000</td>\n",
              "      <td>2.071667</td>\n",
              "    </tr>\n",
              "    <tr>\n",
              "      <th>687</th>\n",
              "      <td>1114</td>\n",
              "      <td>MAG1</td>\n",
              "      <td>Mil</td>\n",
              "      <td>17.0</td>\n",
              "      <td>Al_x000D_\\n</td>\n",
              "      <td>PL_x000D_\\n</td>\n",
              "      <td>3.00</td>\n",
              "      <td>13.00</td>\n",
              "      <td>39.50</td>\n",
              "      <td>1.0</td>\n",
              "      <td>0.0</td>\n",
              "      <td>1.460000</td>\n",
              "      <td>1.460000</td>\n",
              "      <td>4.531667</td>\n",
              "      <td>1.35</td>\n",
              "      <td>1.350000</td>\n",
              "      <td>2.527500</td>\n",
              "    </tr>\n",
              "    <tr>\n",
              "      <th>688</th>\n",
              "      <td>1116</td>\n",
              "      <td>SNKHS</td>\n",
              "      <td>Mil</td>\n",
              "      <td>17.0</td>\n",
              "      <td>Al_x000D_\\n</td>\n",
              "      <td>PL_x000D_\\n</td>\n",
              "      <td>1.50</td>\n",
              "      <td>31.00</td>\n",
              "      <td>43.00</td>\n",
              "      <td>1.0</td>\n",
              "      <td>0.0</td>\n",
              "      <td>5.835000</td>\n",
              "      <td>5.835000</td>\n",
              "      <td>11.350000</td>\n",
              "      <td>3.07</td>\n",
              "      <td>1.023333</td>\n",
              "      <td>3.391667</td>\n",
              "    </tr>\n",
              "  </tbody>\n",
              "</table>\n",
              "<p>624 rows × 17 columns</p>\n",
              "</div>\n",
              "      <button class=\"colab-df-convert\" onclick=\"convertToInteractive('df-3e9404bb-2120-4f7b-9e44-19d97c60ff58')\"\n",
              "              title=\"Convert this dataframe to an interactive table.\"\n",
              "              style=\"display:none;\">\n",
              "        \n",
              "  <svg xmlns=\"http://www.w3.org/2000/svg\" height=\"24px\"viewBox=\"0 0 24 24\"\n",
              "       width=\"24px\">\n",
              "    <path d=\"M0 0h24v24H0V0z\" fill=\"none\"/>\n",
              "    <path d=\"M18.56 5.44l.94 2.06.94-2.06 2.06-.94-2.06-.94-.94-2.06-.94 2.06-2.06.94zm-11 1L8.5 8.5l.94-2.06 2.06-.94-2.06-.94L8.5 2.5l-.94 2.06-2.06.94zm10 10l.94 2.06.94-2.06 2.06-.94-2.06-.94-.94-2.06-.94 2.06-2.06.94z\"/><path d=\"M17.41 7.96l-1.37-1.37c-.4-.4-.92-.59-1.43-.59-.52 0-1.04.2-1.43.59L10.3 9.45l-7.72 7.72c-.78.78-.78 2.05 0 2.83L4 21.41c.39.39.9.59 1.41.59.51 0 1.02-.2 1.41-.59l7.78-7.78 2.81-2.81c.8-.78.8-2.07 0-2.86zM5.41 20L4 18.59l7.72-7.72 1.47 1.35L5.41 20z\"/>\n",
              "  </svg>\n",
              "      </button>\n",
              "      \n",
              "  <style>\n",
              "    .colab-df-container {\n",
              "      display:flex;\n",
              "      flex-wrap:wrap;\n",
              "      gap: 12px;\n",
              "    }\n",
              "\n",
              "    .colab-df-convert {\n",
              "      background-color: #E8F0FE;\n",
              "      border: none;\n",
              "      border-radius: 50%;\n",
              "      cursor: pointer;\n",
              "      display: none;\n",
              "      fill: #1967D2;\n",
              "      height: 32px;\n",
              "      padding: 0 0 0 0;\n",
              "      width: 32px;\n",
              "    }\n",
              "\n",
              "    .colab-df-convert:hover {\n",
              "      background-color: #E2EBFA;\n",
              "      box-shadow: 0px 1px 2px rgba(60, 64, 67, 0.3), 0px 1px 3px 1px rgba(60, 64, 67, 0.15);\n",
              "      fill: #174EA6;\n",
              "    }\n",
              "\n",
              "    [theme=dark] .colab-df-convert {\n",
              "      background-color: #3B4455;\n",
              "      fill: #D2E3FC;\n",
              "    }\n",
              "\n",
              "    [theme=dark] .colab-df-convert:hover {\n",
              "      background-color: #434B5C;\n",
              "      box-shadow: 0px 1px 3px 1px rgba(0, 0, 0, 0.15);\n",
              "      filter: drop-shadow(0px 1px 2px rgba(0, 0, 0, 0.3));\n",
              "      fill: #FFFFFF;\n",
              "    }\n",
              "  </style>\n",
              "\n",
              "      <script>\n",
              "        const buttonEl =\n",
              "          document.querySelector('#df-3e9404bb-2120-4f7b-9e44-19d97c60ff58 button.colab-df-convert');\n",
              "        buttonEl.style.display =\n",
              "          google.colab.kernel.accessAllowed ? 'block' : 'none';\n",
              "\n",
              "        async function convertToInteractive(key) {\n",
              "          const element = document.querySelector('#df-3e9404bb-2120-4f7b-9e44-19d97c60ff58');\n",
              "          const dataTable =\n",
              "            await google.colab.kernel.invokeFunction('convertToInteractive',\n",
              "                                                     [key], {});\n",
              "          if (!dataTable) return;\n",
              "\n",
              "          const docLinkHtml = 'Like what you see? Visit the ' +\n",
              "            '<a target=\"_blank\" href=https://colab.research.google.com/notebooks/data_table.ipynb>data table notebook</a>'\n",
              "            + ' to learn more about interactive tables.';\n",
              "          element.innerHTML = '';\n",
              "          dataTable['output_type'] = 'display_data';\n",
              "          await google.colab.output.renderOutput(dataTable, element);\n",
              "          const docLink = document.createElement('div');\n",
              "          docLink.innerHTML = docLinkHtml;\n",
              "          element.appendChild(docLink);\n",
              "        }\n",
              "      </script>\n",
              "    </div>\n",
              "  </div>\n",
              "  "
            ]
          },
          "metadata": {},
          "execution_count": 4
        }
      ]
    },
    {
      "cell_type": "markdown",
      "source": [
        "Creating a different dataset for numerical data."
      ],
      "metadata": {
        "id": "ZhDdkXww3Bdj"
      }
    },
    {
      "cell_type": "code",
      "source": [
        "numerical_data = Data[['Platform Label','Mtl_Thick (in)','Mtl_Width (in)','Mtl_Length (in)','Mtl_Makes','Mtl_Axes']]"
      ],
      "metadata": {
        "id": "3nTpIBsctSv6"
      },
      "execution_count": 5,
      "outputs": []
    },
    {
      "cell_type": "code",
      "source": [
        "numerical_data"
      ],
      "metadata": {
        "colab": {
          "base_uri": "https://localhost:8080/",
          "height": 424
        },
        "id": "PoJa75zf3L0m",
        "outputId": "178de597-9774-4347-af0b-80665d1b9eec"
      },
      "execution_count": 6,
      "outputs": [
        {
          "output_type": "execute_result",
          "data": {
            "text/plain": [
              "     Platform Label  Mtl_Thick (in)  Mtl_Width (in)  Mtl_Length (in)  \\\n",
              "0              22.0            2.75           25.00            42.00   \n",
              "1              22.0            2.00           11.88            18.00   \n",
              "2              22.0            2.75           25.00            42.00   \n",
              "3              22.0            2.00           11.88            18.00   \n",
              "4               6.0            2.00            5.25            68.50   \n",
              "..              ...             ...             ...              ...   \n",
              "682            19.0            4.00            2.00             2.00   \n",
              "683            19.0            1.25           32.00            46.25   \n",
              "686            17.0            2.75           11.75            40.00   \n",
              "687            17.0            3.00           13.00            39.50   \n",
              "688            17.0            1.50           31.00            43.00   \n",
              "\n",
              "     Mtl_Makes  Mtl_Axes  \n",
              "0          2.0       5.0  \n",
              "1          1.0       5.0  \n",
              "2          2.0       5.0  \n",
              "3          1.0       5.0  \n",
              "4          1.0       5.0  \n",
              "..         ...       ...  \n",
              "682        1.0       5.0  \n",
              "683        1.0       3.0  \n",
              "686        1.0       5.0  \n",
              "687        1.0       0.0  \n",
              "688        1.0       0.0  \n",
              "\n",
              "[624 rows x 6 columns]"
            ],
            "text/html": [
              "\n",
              "  <div id=\"df-48082e0c-18da-40ce-9e7d-a70ec09c7859\">\n",
              "    <div class=\"colab-df-container\">\n",
              "      <div>\n",
              "<style scoped>\n",
              "    .dataframe tbody tr th:only-of-type {\n",
              "        vertical-align: middle;\n",
              "    }\n",
              "\n",
              "    .dataframe tbody tr th {\n",
              "        vertical-align: top;\n",
              "    }\n",
              "\n",
              "    .dataframe thead th {\n",
              "        text-align: right;\n",
              "    }\n",
              "</style>\n",
              "<table border=\"1\" class=\"dataframe\">\n",
              "  <thead>\n",
              "    <tr style=\"text-align: right;\">\n",
              "      <th></th>\n",
              "      <th>Platform Label</th>\n",
              "      <th>Mtl_Thick (in)</th>\n",
              "      <th>Mtl_Width (in)</th>\n",
              "      <th>Mtl_Length (in)</th>\n",
              "      <th>Mtl_Makes</th>\n",
              "      <th>Mtl_Axes</th>\n",
              "    </tr>\n",
              "  </thead>\n",
              "  <tbody>\n",
              "    <tr>\n",
              "      <th>0</th>\n",
              "      <td>22.0</td>\n",
              "      <td>2.75</td>\n",
              "      <td>25.00</td>\n",
              "      <td>42.00</td>\n",
              "      <td>2.0</td>\n",
              "      <td>5.0</td>\n",
              "    </tr>\n",
              "    <tr>\n",
              "      <th>1</th>\n",
              "      <td>22.0</td>\n",
              "      <td>2.00</td>\n",
              "      <td>11.88</td>\n",
              "      <td>18.00</td>\n",
              "      <td>1.0</td>\n",
              "      <td>5.0</td>\n",
              "    </tr>\n",
              "    <tr>\n",
              "      <th>2</th>\n",
              "      <td>22.0</td>\n",
              "      <td>2.75</td>\n",
              "      <td>25.00</td>\n",
              "      <td>42.00</td>\n",
              "      <td>2.0</td>\n",
              "      <td>5.0</td>\n",
              "    </tr>\n",
              "    <tr>\n",
              "      <th>3</th>\n",
              "      <td>22.0</td>\n",
              "      <td>2.00</td>\n",
              "      <td>11.88</td>\n",
              "      <td>18.00</td>\n",
              "      <td>1.0</td>\n",
              "      <td>5.0</td>\n",
              "    </tr>\n",
              "    <tr>\n",
              "      <th>4</th>\n",
              "      <td>6.0</td>\n",
              "      <td>2.00</td>\n",
              "      <td>5.25</td>\n",
              "      <td>68.50</td>\n",
              "      <td>1.0</td>\n",
              "      <td>5.0</td>\n",
              "    </tr>\n",
              "    <tr>\n",
              "      <th>...</th>\n",
              "      <td>...</td>\n",
              "      <td>...</td>\n",
              "      <td>...</td>\n",
              "      <td>...</td>\n",
              "      <td>...</td>\n",
              "      <td>...</td>\n",
              "    </tr>\n",
              "    <tr>\n",
              "      <th>682</th>\n",
              "      <td>19.0</td>\n",
              "      <td>4.00</td>\n",
              "      <td>2.00</td>\n",
              "      <td>2.00</td>\n",
              "      <td>1.0</td>\n",
              "      <td>5.0</td>\n",
              "    </tr>\n",
              "    <tr>\n",
              "      <th>683</th>\n",
              "      <td>19.0</td>\n",
              "      <td>1.25</td>\n",
              "      <td>32.00</td>\n",
              "      <td>46.25</td>\n",
              "      <td>1.0</td>\n",
              "      <td>3.0</td>\n",
              "    </tr>\n",
              "    <tr>\n",
              "      <th>686</th>\n",
              "      <td>17.0</td>\n",
              "      <td>2.75</td>\n",
              "      <td>11.75</td>\n",
              "      <td>40.00</td>\n",
              "      <td>1.0</td>\n",
              "      <td>5.0</td>\n",
              "    </tr>\n",
              "    <tr>\n",
              "      <th>687</th>\n",
              "      <td>17.0</td>\n",
              "      <td>3.00</td>\n",
              "      <td>13.00</td>\n",
              "      <td>39.50</td>\n",
              "      <td>1.0</td>\n",
              "      <td>0.0</td>\n",
              "    </tr>\n",
              "    <tr>\n",
              "      <th>688</th>\n",
              "      <td>17.0</td>\n",
              "      <td>1.50</td>\n",
              "      <td>31.00</td>\n",
              "      <td>43.00</td>\n",
              "      <td>1.0</td>\n",
              "      <td>0.0</td>\n",
              "    </tr>\n",
              "  </tbody>\n",
              "</table>\n",
              "<p>624 rows × 6 columns</p>\n",
              "</div>\n",
              "      <button class=\"colab-df-convert\" onclick=\"convertToInteractive('df-48082e0c-18da-40ce-9e7d-a70ec09c7859')\"\n",
              "              title=\"Convert this dataframe to an interactive table.\"\n",
              "              style=\"display:none;\">\n",
              "        \n",
              "  <svg xmlns=\"http://www.w3.org/2000/svg\" height=\"24px\"viewBox=\"0 0 24 24\"\n",
              "       width=\"24px\">\n",
              "    <path d=\"M0 0h24v24H0V0z\" fill=\"none\"/>\n",
              "    <path d=\"M18.56 5.44l.94 2.06.94-2.06 2.06-.94-2.06-.94-.94-2.06-.94 2.06-2.06.94zm-11 1L8.5 8.5l.94-2.06 2.06-.94-2.06-.94L8.5 2.5l-.94 2.06-2.06.94zm10 10l.94 2.06.94-2.06 2.06-.94-2.06-.94-.94-2.06-.94 2.06-2.06.94z\"/><path d=\"M17.41 7.96l-1.37-1.37c-.4-.4-.92-.59-1.43-.59-.52 0-1.04.2-1.43.59L10.3 9.45l-7.72 7.72c-.78.78-.78 2.05 0 2.83L4 21.41c.39.39.9.59 1.41.59.51 0 1.02-.2 1.41-.59l7.78-7.78 2.81-2.81c.8-.78.8-2.07 0-2.86zM5.41 20L4 18.59l7.72-7.72 1.47 1.35L5.41 20z\"/>\n",
              "  </svg>\n",
              "      </button>\n",
              "      \n",
              "  <style>\n",
              "    .colab-df-container {\n",
              "      display:flex;\n",
              "      flex-wrap:wrap;\n",
              "      gap: 12px;\n",
              "    }\n",
              "\n",
              "    .colab-df-convert {\n",
              "      background-color: #E8F0FE;\n",
              "      border: none;\n",
              "      border-radius: 50%;\n",
              "      cursor: pointer;\n",
              "      display: none;\n",
              "      fill: #1967D2;\n",
              "      height: 32px;\n",
              "      padding: 0 0 0 0;\n",
              "      width: 32px;\n",
              "    }\n",
              "\n",
              "    .colab-df-convert:hover {\n",
              "      background-color: #E2EBFA;\n",
              "      box-shadow: 0px 1px 2px rgba(60, 64, 67, 0.3), 0px 1px 3px 1px rgba(60, 64, 67, 0.15);\n",
              "      fill: #174EA6;\n",
              "    }\n",
              "\n",
              "    [theme=dark] .colab-df-convert {\n",
              "      background-color: #3B4455;\n",
              "      fill: #D2E3FC;\n",
              "    }\n",
              "\n",
              "    [theme=dark] .colab-df-convert:hover {\n",
              "      background-color: #434B5C;\n",
              "      box-shadow: 0px 1px 3px 1px rgba(0, 0, 0, 0.15);\n",
              "      filter: drop-shadow(0px 1px 2px rgba(0, 0, 0, 0.3));\n",
              "      fill: #FFFFFF;\n",
              "    }\n",
              "  </style>\n",
              "\n",
              "      <script>\n",
              "        const buttonEl =\n",
              "          document.querySelector('#df-48082e0c-18da-40ce-9e7d-a70ec09c7859 button.colab-df-convert');\n",
              "        buttonEl.style.display =\n",
              "          google.colab.kernel.accessAllowed ? 'block' : 'none';\n",
              "\n",
              "        async function convertToInteractive(key) {\n",
              "          const element = document.querySelector('#df-48082e0c-18da-40ce-9e7d-a70ec09c7859');\n",
              "          const dataTable =\n",
              "            await google.colab.kernel.invokeFunction('convertToInteractive',\n",
              "                                                     [key], {});\n",
              "          if (!dataTable) return;\n",
              "\n",
              "          const docLinkHtml = 'Like what you see? Visit the ' +\n",
              "            '<a target=\"_blank\" href=https://colab.research.google.com/notebooks/data_table.ipynb>data table notebook</a>'\n",
              "            + ' to learn more about interactive tables.';\n",
              "          element.innerHTML = '';\n",
              "          dataTable['output_type'] = 'display_data';\n",
              "          await google.colab.output.renderOutput(dataTable, element);\n",
              "          const docLink = document.createElement('div');\n",
              "          docLink.innerHTML = docLinkHtml;\n",
              "          element.appendChild(docLink);\n",
              "        }\n",
              "      </script>\n",
              "    </div>\n",
              "  </div>\n",
              "  "
            ]
          },
          "metadata": {},
          "execution_count": 6
        }
      ]
    },
    {
      "cell_type": "markdown",
      "source": [
        "# Primary Template/Estimated hours Prediction\n",
        "\n",
        "We create a function to pass in our numerical data and target. The data is split into training (80% for model development) and testing (20% for new data prediction). The trainig this passed into model for fitting and then the model is used for predictions. \n",
        "Based on the prediction and with our actual test data we determine the average hours below. "
      ],
      "metadata": {
        "id": "niZ-XvEd3dpy"
      }
    },
    {
      "cell_type": "code",
      "source": [
        "from sklearn.utils.fixes import sklearn\n",
        "def predict_primaryTemp(numerical_data, target):\n",
        "  #Data Spliting using train_test_split (sklearn)\n",
        "  num_train, num_test, primTemp_train, primTemp_test = train_test_split(numerical_data, target,test_size=0.2, random_state=42)\n",
        "  #model \n",
        "  KNN = KNeighborsRegressor(n_neighbors=2, algorithm='ball_tree')\n",
        "  #fitting the training data into model\n",
        "  KNN.fit(num_train, primTemp_train)\n",
        "  #model performance \n",
        "  score = KNN.score(num_test, primTemp_test)\n",
        "  #New Predictions \n",
        "  predictions = KNN.predict(num_test)\n",
        "  #Average hours \n",
        "  avg_hrs =  np.sum(np.abs(predictions - primTemp_test))/len(primTemp_test)\n",
        "  \n",
        "\n",
        "  return avg_hrs, score, predictions, primTemp_test"
      ],
      "metadata": {
        "id": "oizSYnm5xqIu"
      },
      "execution_count": 7,
      "outputs": []
    },
    {
      "cell_type": "code",
      "source": [
        "primTemp_avg_hrs , primTemp_score, primTemp_pred , primTemp_test = predict_primaryTemp(numerical_data, Data['Primary - Tmp (hrs)'])\n",
        "print(\"Model Performance Score:\", primTemp_score)\n",
        "print(\"Average Hours:\", primTemp_avg_hrs)"
      ],
      "metadata": {
        "colab": {
          "base_uri": "https://localhost:8080/"
        },
        "id": "qtaUSKKmxqF2",
        "outputId": "0c3b1d0e-cde1-4c5d-c251-81edad2270a7"
      },
      "execution_count": 8,
      "outputs": [
        {
          "output_type": "stream",
          "name": "stdout",
          "text": [
            "Model Performance Score: 0.7463238848067469\n",
            "Average Hours: 0.9968786666666667\n"
          ]
        }
      ]
    },
    {
      "cell_type": "markdown",
      "source": [
        "From the above \"Average Hours\" value we can see that, on an average the model is predicting that the job can be done as per the time quoted with a difference of approximately one hour. "
      ],
      "metadata": {
        "id": "BB7H_gPJ7XhK"
      }
    },
    {
      "cell_type": "markdown",
      "source": [
        "# Primary Actual hours prediction considering only Numerical Data"
      ],
      "metadata": {
        "id": "riGENCbU8lJy"
      }
    },
    {
      "cell_type": "code",
      "source": [
        "from sklearn.utils.fixes import sklearn\n",
        "def predict_primaryAct(numerical_data, target):\n",
        "  # Data Spliting\n",
        "  num_train, num_test, primAct_train, primAct_test = train_test_split(numerical_data, target, test_size=0.2, random_state=42)\n",
        "  #model\n",
        "  KNN = KNeighborsRegressor(n_neighbors=2, algorithm='ball_tree')\n",
        "  #fitting the training data into model\n",
        "  KNN.fit(num_train, primAct_train)\n",
        "  #Model performance\n",
        "  score = KNN.score(num_test, primAct_test)\n",
        "  #preditind new data\n",
        "  predictions = KNN.predict(num_test)\n",
        "  #Average hours\n",
        "  avg_hrs =  np.sum(np.abs(predictions - primAct_test))/len(primAct_test)\n",
        "\n",
        "  return avg_hrs, score"
      ],
      "metadata": {
        "id": "YITFMJ-axp-k"
      },
      "execution_count": 9,
      "outputs": []
    },
    {
      "cell_type": "code",
      "source": [
        "primAct_avg_hrs, primAct_score = predict_primaryAct(numerical_data, Data['Primary - Act (hrs)'])\n",
        "print(\"Model Performance Score:\", primAct_score)\n",
        "print(\"Average Hours:\", primAct_avg_hrs)"
      ],
      "metadata": {
        "id": "A9w8qXOAxp78",
        "colab": {
          "base_uri": "https://localhost:8080/"
        },
        "outputId": "752d9683-e4b6-4721-f62e-d3933d610593"
      },
      "execution_count": 10,
      "outputs": [
        {
          "output_type": "stream",
          "name": "stdout",
          "text": [
            "Model Performance Score: 0.77921164191843\n",
            "Average Hours: 1.3031461593046647\n"
          ]
        }
      ]
    },
    {
      "cell_type": "markdown",
      "source": [
        "# Debur Template/Estimated hours prediction using only numerical data"
      ],
      "metadata": {
        "id": "1rO73389BTh3"
      }
    },
    {
      "cell_type": "code",
      "source": [
        "def predict_DeburTemp(numerical_data, target):\n",
        "\n",
        "  DeburTemp_train, DeburTemp_test, target_train, target_test = train_test_split(numerical_data, target, test_size=0.2, random_state=42)\n",
        "\n",
        "  KNN = KNeighborsRegressor(n_neighbors=2, algorithm='ball_tree')\n",
        "  KNN.fit(DeburTemp_train, target_train)\n",
        "\n",
        "  score = KNN.score(DeburTemp_test, target_test)\n",
        "\n",
        "  pred = KNN.predict(DeburTemp_test)\n",
        "  avg_hrs =  np.sum(np.abs(pred - target_test))/len(target_test)\n",
        "\n",
        "  return avg_hrs, score\n"
      ],
      "metadata": {
        "id": "VcC0rPn6xp1M"
      },
      "execution_count": 11,
      "outputs": []
    },
    {
      "cell_type": "code",
      "source": [
        "Deburtemp_avg_hrs, DeburTemp_score = predict_DeburTemp(numerical_data, Data['Deburr - Tmp (hrs)'])\n",
        "print(\"Model Performance Score:\",DeburTemp_score)\n",
        "print(\"Average Hours:\", Deburtemp_avg_hrs)"
      ],
      "metadata": {
        "colab": {
          "base_uri": "https://localhost:8080/"
        },
        "id": "6RrmlLqWBs5y",
        "outputId": "f4ea624c-3c64-415a-88ad-30c306cb856e"
      },
      "execution_count": 12,
      "outputs": [
        {
          "output_type": "stream",
          "name": "stdout",
          "text": [
            "Model Performance Score: 0.5883572982901886\n",
            "Average Hours: 0.46010666666666666\n"
          ]
        }
      ]
    },
    {
      "cell_type": "code",
      "source": [
        "from sklearn.utils.fixes import sklearn\n",
        "def predict_DeburAct(numerical_data, target):\n",
        "\n",
        "  DeburAct_train, DeburAct_test, target_train, target_test = train_test_split(numerical_data, target, test_size=0.2, random_state=42)\n",
        "\n",
        "  KNN = KNeighborsRegressor(n_neighbors=2, algorithm='ball_tree')\n",
        "  KNN.fit(DeburAct_train, target_train)\n",
        "\n",
        "  score = KNN.score(DeburAct_test, target_test)\n",
        "  pred = KNN.predict(DeburAct_test)\n",
        "  avg_hrs =  np.sum(np.abs(pred - target_test))/len(target_test)\n",
        "  \n",
        "  return avg_hrs, score"
      ],
      "metadata": {
        "id": "Z5CBHuOGBs2p"
      },
      "execution_count": 13,
      "outputs": []
    },
    {
      "cell_type": "code",
      "source": [
        "DeburAct_avg_hrs, DeburAct_score = predict_DeburAct(numerical_data, Data['Deburr - Act (hrs)'])\n",
        "print(\"Model Performance Score:\",DeburAct_score)\n",
        "print(\"Average Hours:\", DeburAct_avg_hrs)"
      ],
      "metadata": {
        "colab": {
          "base_uri": "https://localhost:8080/"
        },
        "id": "vNFYV_QDBsz0",
        "outputId": "2445c926-2140-40d6-a0a8-4239b95bfd75"
      },
      "execution_count": 15,
      "outputs": [
        {
          "output_type": "stream",
          "name": "stdout",
          "text": [
            "Model Performance Score: 0.5140543801515485\n",
            "Average Hours: 0.5793808334241463\n"
          ]
        }
      ]
    },
    {
      "cell_type": "code",
      "source": [
        "combinedTemp = Data['Deburr - Tmp (hrs)'] + Data['Primary - Tmp (hrs)']"
      ],
      "metadata": {
        "id": "8CBO5aZ7BV6W"
      },
      "execution_count": 18,
      "outputs": []
    },
    {
      "cell_type": "code",
      "source": [
        "from sklearn.utils.fixes import sklearn\n",
        "def predict_combinedTemp(numerical_data, target):\n",
        "\n",
        "  num_train, num_test, combinedTemp_train, combinedTemp_test = train_test_split(numerical_data, target, test_size=0.2, random_state=42)\n",
        "\n",
        "  KNN = KNeighborsRegressor(n_neighbors=2, algorithm='ball_tree')\n",
        "  KNN.fit(num_train, combinedTemp_train)\n",
        "\n",
        "  score = KNN.score(num_test, combinedTemp_test)\n",
        "  \n",
        "  pred = KNN.predict(num_test)\n",
        "  avg_hrs =  np.sum(np.abs(pred - combinedTemp_test))/len(combinedTemp_test)\n",
        "  \n",
        "  return avg_hrs, score, pred, combinedTemp_test"
      ],
      "metadata": {
        "id": "lOgvb6bIB9jT"
      },
      "execution_count": 19,
      "outputs": []
    },
    {
      "cell_type": "code",
      "source": [
        "combinedTemp_avg_hrs, combinedTemp_score, combinedTemp_pred, combinedTemp_test = predict_combinedTemp(numerical_data, combinedTemp)\n",
        "print(\"Model Performance Score:\", combinedTemp_score)\n",
        "print(\"Average Hours:\", combinedTemp_avg_hrs)"
      ],
      "metadata": {
        "colab": {
          "base_uri": "https://localhost:8080/"
        },
        "id": "qAUeOd-ICclL",
        "outputId": "49585033-3111-4fc1-cb0a-1e1f4d958f8f"
      },
      "execution_count": 20,
      "outputs": [
        {
          "output_type": "stream",
          "name": "stdout",
          "text": [
            "Model Performance Score: 0.7269946515505437\n",
            "Average Hours: 1.3799986666666666\n"
          ]
        }
      ]
    },
    {
      "cell_type": "code",
      "source": [
        "combinedAct = Data['Primary - Act (hrs)'] + Data['Deburr - Act (hrs)']"
      ],
      "metadata": {
        "id": "tQUyUgdCDDVG"
      },
      "execution_count": 21,
      "outputs": []
    },
    {
      "cell_type": "code",
      "source": [
        "from sklearn.utils.fixes import sklearn\n",
        "def predict_combinedAct(numerical_data, target):\n",
        "\n",
        "  num_train, num_test, combinedAct_train, combinedAct_test = train_test_split(numerical_data, target, test_size=0.2, random_state=42)\n",
        "\n",
        "  KNN = KNeighborsRegressor(n_neighbors=2, algorithm='ball_tree')\n",
        "  KNN.fit(num_train, combinedAct_train)\n",
        "\n",
        "  score = KNN.score(num_test, combinedAct_test)\n",
        "\n",
        "  pred = KNN.predict(num_test)\n",
        "  avg_hrs =  np.sum(np.abs(pred - combinedAct_test))/len(combinedAct_test)\n",
        "\n",
        "  return avg_hrs, score, pred, combinedAct_test"
      ],
      "metadata": {
        "id": "aoFbPopJDOIv"
      },
      "execution_count": 23,
      "outputs": []
    },
    {
      "cell_type": "code",
      "source": [
        "combinedAct_avg_hrs, combinedAct_score, combinedAct_pred, combinedAct_test = predict_combinedAct(numerical_data, combinedAct)\n",
        "print(\"Model Performance Score:\", combinedAct_score)\n",
        "print(\"Average Hours:\",combinedAct_avg_hrs)"
      ],
      "metadata": {
        "colab": {
          "base_uri": "https://localhost:8080/"
        },
        "id": "bD-VVw0dDOFn",
        "outputId": "bca5ba3a-e303-4997-be8a-453ed986d751"
      },
      "execution_count": 24,
      "outputs": [
        {
          "output_type": "stream",
          "name": "stdout",
          "text": [
            "Model Performance Score: 0.795512186033331\n",
            "Average Hours: 1.5398386390431982\n"
          ]
        }
      ]
    },
    {
      "cell_type": "markdown",
      "source": [
        "# Predictions based on XGBoost "
      ],
      "metadata": {
        "id": "RlnIoei5D_is"
      }
    },
    {
      "cell_type": "code",
      "source": [
        "Data"
      ],
      "metadata": {
        "colab": {
          "base_uri": "https://localhost:8080/",
          "height": 485
        },
        "id": "v5nLs25SEHW-",
        "outputId": "14921992-b15c-48e9-af45-c2ec1d621eba"
      },
      "execution_count": null,
      "outputs": [
        {
          "output_type": "execute_result",
          "data": {
            "text/plain": [
              "     Item  Class Sector  Platform Label     Mtl_Type     Mtl_Form  \\\n",
              "0       2  5AXLS    Com            22.0  Al_x000D_\\n  PL_x000D_\\n   \n",
              "1       3  5AXLS    Com            22.0  Al_x000D_\\n  PL_x000D_\\n   \n",
              "2       4  5AXLS    Com            22.0  Al_x000D_\\n  PL_x000D_\\n   \n",
              "3       5  5AXLS    Com            22.0  Al_x000D_\\n  PL_x000D_\\n   \n",
              "4       6  SNKHS    Mil             6.0  Ti_x000D_\\n  EX_x000D_\\n   \n",
              "..    ...    ...    ...             ...          ...          ...   \n",
              "682  1106  LATHE    Mil            19.0  CA_x000D_\\n  BR_x000D_\\n   \n",
              "683  1107  SNKHS    Mil            19.0  Al_x000D_\\n  PL_x000D_\\n   \n",
              "686  1112   MAG1    MIL            17.0  Al_x000D_\\n  PL_x000D_\\n   \n",
              "687  1114   MAG1    Mil            17.0  Al_x000D_\\n  PL_x000D_\\n   \n",
              "688  1116  SNKHS    Mil            17.0  Al_x000D_\\n  PL_x000D_\\n   \n",
              "\n",
              "     Mtl_Thick (in)  Mtl_Width (in)  Mtl_Length (in)  Mtl_Makes  Mtl_Axes  \\\n",
              "0              2.75           25.00            42.00        2.0       5.0   \n",
              "1              2.00           11.88            18.00        1.0       5.0   \n",
              "2              2.75           25.00            42.00        2.0       5.0   \n",
              "3              2.00           11.88            18.00        1.0       5.0   \n",
              "4              2.00            5.25            68.50        1.0       5.0   \n",
              "..              ...             ...              ...        ...       ...   \n",
              "682            4.00            2.00             2.00        1.0       5.0   \n",
              "683            1.25           32.00            46.25        1.0       3.0   \n",
              "686            2.75           11.75            40.00        1.0       5.0   \n",
              "687            3.00           13.00            39.50        1.0       0.0   \n",
              "688            1.50           31.00            43.00        1.0       0.0   \n",
              "\n",
              "     Primary - Tmp (hrs)  Primary - Est (hrs)  Primary - Act (hrs)  \\\n",
              "0               4.000000             4.000000             5.241667   \n",
              "1               4.000000             4.000000             3.005000   \n",
              "2               4.000000             4.000000             5.177500   \n",
              "3               4.000000             4.000000             2.987500   \n",
              "4               4.000000             2.666667             2.825556   \n",
              "..                   ...                  ...                  ...   \n",
              "682             0.425000             0.482000             0.472718   \n",
              "683             5.230000             5.230000            10.074167   \n",
              "686             1.783333             1.783333             6.967222   \n",
              "687             1.460000             1.460000             4.531667   \n",
              "688             5.835000             5.835000            11.350000   \n",
              "\n",
              "     Deburr - Tmp (hrs)  Deburr - Est (hrs)  Deburr - Act (hrs)  \n",
              "0                  1.00            1.000000            1.911667  \n",
              "1                  0.50            0.500000            1.038333  \n",
              "2                  0.50            0.500000            1.993333  \n",
              "3                  0.50            0.500000            0.976667  \n",
              "4                  0.00            0.000000            0.598125  \n",
              "..                  ...                 ...                 ...  \n",
              "682                0.17            0.170000            0.128632  \n",
              "683                2.67            2.670000            1.502000  \n",
              "686                1.47            1.470000            2.071667  \n",
              "687                1.35            1.350000            2.527500  \n",
              "688                3.07            1.023333            3.391667  \n",
              "\n",
              "[624 rows x 17 columns]"
            ],
            "text/html": [
              "\n",
              "  <div id=\"df-34ddac50-a12c-4c3b-89b2-a6b94d3e9029\">\n",
              "    <div class=\"colab-df-container\">\n",
              "      <div>\n",
              "<style scoped>\n",
              "    .dataframe tbody tr th:only-of-type {\n",
              "        vertical-align: middle;\n",
              "    }\n",
              "\n",
              "    .dataframe tbody tr th {\n",
              "        vertical-align: top;\n",
              "    }\n",
              "\n",
              "    .dataframe thead th {\n",
              "        text-align: right;\n",
              "    }\n",
              "</style>\n",
              "<table border=\"1\" class=\"dataframe\">\n",
              "  <thead>\n",
              "    <tr style=\"text-align: right;\">\n",
              "      <th></th>\n",
              "      <th>Item</th>\n",
              "      <th>Class</th>\n",
              "      <th>Sector</th>\n",
              "      <th>Platform Label</th>\n",
              "      <th>Mtl_Type</th>\n",
              "      <th>Mtl_Form</th>\n",
              "      <th>Mtl_Thick (in)</th>\n",
              "      <th>Mtl_Width (in)</th>\n",
              "      <th>Mtl_Length (in)</th>\n",
              "      <th>Mtl_Makes</th>\n",
              "      <th>Mtl_Axes</th>\n",
              "      <th>Primary - Tmp (hrs)</th>\n",
              "      <th>Primary - Est (hrs)</th>\n",
              "      <th>Primary - Act (hrs)</th>\n",
              "      <th>Deburr - Tmp (hrs)</th>\n",
              "      <th>Deburr - Est (hrs)</th>\n",
              "      <th>Deburr - Act (hrs)</th>\n",
              "    </tr>\n",
              "  </thead>\n",
              "  <tbody>\n",
              "    <tr>\n",
              "      <th>0</th>\n",
              "      <td>2</td>\n",
              "      <td>5AXLS</td>\n",
              "      <td>Com</td>\n",
              "      <td>22.0</td>\n",
              "      <td>Al_x000D_\\n</td>\n",
              "      <td>PL_x000D_\\n</td>\n",
              "      <td>2.75</td>\n",
              "      <td>25.00</td>\n",
              "      <td>42.00</td>\n",
              "      <td>2.0</td>\n",
              "      <td>5.0</td>\n",
              "      <td>4.000000</td>\n",
              "      <td>4.000000</td>\n",
              "      <td>5.241667</td>\n",
              "      <td>1.00</td>\n",
              "      <td>1.000000</td>\n",
              "      <td>1.911667</td>\n",
              "    </tr>\n",
              "    <tr>\n",
              "      <th>1</th>\n",
              "      <td>3</td>\n",
              "      <td>5AXLS</td>\n",
              "      <td>Com</td>\n",
              "      <td>22.0</td>\n",
              "      <td>Al_x000D_\\n</td>\n",
              "      <td>PL_x000D_\\n</td>\n",
              "      <td>2.00</td>\n",
              "      <td>11.88</td>\n",
              "      <td>18.00</td>\n",
              "      <td>1.0</td>\n",
              "      <td>5.0</td>\n",
              "      <td>4.000000</td>\n",
              "      <td>4.000000</td>\n",
              "      <td>3.005000</td>\n",
              "      <td>0.50</td>\n",
              "      <td>0.500000</td>\n",
              "      <td>1.038333</td>\n",
              "    </tr>\n",
              "    <tr>\n",
              "      <th>2</th>\n",
              "      <td>4</td>\n",
              "      <td>5AXLS</td>\n",
              "      <td>Com</td>\n",
              "      <td>22.0</td>\n",
              "      <td>Al_x000D_\\n</td>\n",
              "      <td>PL_x000D_\\n</td>\n",
              "      <td>2.75</td>\n",
              "      <td>25.00</td>\n",
              "      <td>42.00</td>\n",
              "      <td>2.0</td>\n",
              "      <td>5.0</td>\n",
              "      <td>4.000000</td>\n",
              "      <td>4.000000</td>\n",
              "      <td>5.177500</td>\n",
              "      <td>0.50</td>\n",
              "      <td>0.500000</td>\n",
              "      <td>1.993333</td>\n",
              "    </tr>\n",
              "    <tr>\n",
              "      <th>3</th>\n",
              "      <td>5</td>\n",
              "      <td>5AXLS</td>\n",
              "      <td>Com</td>\n",
              "      <td>22.0</td>\n",
              "      <td>Al_x000D_\\n</td>\n",
              "      <td>PL_x000D_\\n</td>\n",
              "      <td>2.00</td>\n",
              "      <td>11.88</td>\n",
              "      <td>18.00</td>\n",
              "      <td>1.0</td>\n",
              "      <td>5.0</td>\n",
              "      <td>4.000000</td>\n",
              "      <td>4.000000</td>\n",
              "      <td>2.987500</td>\n",
              "      <td>0.50</td>\n",
              "      <td>0.500000</td>\n",
              "      <td>0.976667</td>\n",
              "    </tr>\n",
              "    <tr>\n",
              "      <th>4</th>\n",
              "      <td>6</td>\n",
              "      <td>SNKHS</td>\n",
              "      <td>Mil</td>\n",
              "      <td>6.0</td>\n",
              "      <td>Ti_x000D_\\n</td>\n",
              "      <td>EX_x000D_\\n</td>\n",
              "      <td>2.00</td>\n",
              "      <td>5.25</td>\n",
              "      <td>68.50</td>\n",
              "      <td>1.0</td>\n",
              "      <td>5.0</td>\n",
              "      <td>4.000000</td>\n",
              "      <td>2.666667</td>\n",
              "      <td>2.825556</td>\n",
              "      <td>0.00</td>\n",
              "      <td>0.000000</td>\n",
              "      <td>0.598125</td>\n",
              "    </tr>\n",
              "    <tr>\n",
              "      <th>...</th>\n",
              "      <td>...</td>\n",
              "      <td>...</td>\n",
              "      <td>...</td>\n",
              "      <td>...</td>\n",
              "      <td>...</td>\n",
              "      <td>...</td>\n",
              "      <td>...</td>\n",
              "      <td>...</td>\n",
              "      <td>...</td>\n",
              "      <td>...</td>\n",
              "      <td>...</td>\n",
              "      <td>...</td>\n",
              "      <td>...</td>\n",
              "      <td>...</td>\n",
              "      <td>...</td>\n",
              "      <td>...</td>\n",
              "      <td>...</td>\n",
              "    </tr>\n",
              "    <tr>\n",
              "      <th>682</th>\n",
              "      <td>1106</td>\n",
              "      <td>LATHE</td>\n",
              "      <td>Mil</td>\n",
              "      <td>19.0</td>\n",
              "      <td>CA_x000D_\\n</td>\n",
              "      <td>BR_x000D_\\n</td>\n",
              "      <td>4.00</td>\n",
              "      <td>2.00</td>\n",
              "      <td>2.00</td>\n",
              "      <td>1.0</td>\n",
              "      <td>5.0</td>\n",
              "      <td>0.425000</td>\n",
              "      <td>0.482000</td>\n",
              "      <td>0.472718</td>\n",
              "      <td>0.17</td>\n",
              "      <td>0.170000</td>\n",
              "      <td>0.128632</td>\n",
              "    </tr>\n",
              "    <tr>\n",
              "      <th>683</th>\n",
              "      <td>1107</td>\n",
              "      <td>SNKHS</td>\n",
              "      <td>Mil</td>\n",
              "      <td>19.0</td>\n",
              "      <td>Al_x000D_\\n</td>\n",
              "      <td>PL_x000D_\\n</td>\n",
              "      <td>1.25</td>\n",
              "      <td>32.00</td>\n",
              "      <td>46.25</td>\n",
              "      <td>1.0</td>\n",
              "      <td>3.0</td>\n",
              "      <td>5.230000</td>\n",
              "      <td>5.230000</td>\n",
              "      <td>10.074167</td>\n",
              "      <td>2.67</td>\n",
              "      <td>2.670000</td>\n",
              "      <td>1.502000</td>\n",
              "    </tr>\n",
              "    <tr>\n",
              "      <th>686</th>\n",
              "      <td>1112</td>\n",
              "      <td>MAG1</td>\n",
              "      <td>MIL</td>\n",
              "      <td>17.0</td>\n",
              "      <td>Al_x000D_\\n</td>\n",
              "      <td>PL_x000D_\\n</td>\n",
              "      <td>2.75</td>\n",
              "      <td>11.75</td>\n",
              "      <td>40.00</td>\n",
              "      <td>1.0</td>\n",
              "      <td>5.0</td>\n",
              "      <td>1.783333</td>\n",
              "      <td>1.783333</td>\n",
              "      <td>6.967222</td>\n",
              "      <td>1.47</td>\n",
              "      <td>1.470000</td>\n",
              "      <td>2.071667</td>\n",
              "    </tr>\n",
              "    <tr>\n",
              "      <th>687</th>\n",
              "      <td>1114</td>\n",
              "      <td>MAG1</td>\n",
              "      <td>Mil</td>\n",
              "      <td>17.0</td>\n",
              "      <td>Al_x000D_\\n</td>\n",
              "      <td>PL_x000D_\\n</td>\n",
              "      <td>3.00</td>\n",
              "      <td>13.00</td>\n",
              "      <td>39.50</td>\n",
              "      <td>1.0</td>\n",
              "      <td>0.0</td>\n",
              "      <td>1.460000</td>\n",
              "      <td>1.460000</td>\n",
              "      <td>4.531667</td>\n",
              "      <td>1.35</td>\n",
              "      <td>1.350000</td>\n",
              "      <td>2.527500</td>\n",
              "    </tr>\n",
              "    <tr>\n",
              "      <th>688</th>\n",
              "      <td>1116</td>\n",
              "      <td>SNKHS</td>\n",
              "      <td>Mil</td>\n",
              "      <td>17.0</td>\n",
              "      <td>Al_x000D_\\n</td>\n",
              "      <td>PL_x000D_\\n</td>\n",
              "      <td>1.50</td>\n",
              "      <td>31.00</td>\n",
              "      <td>43.00</td>\n",
              "      <td>1.0</td>\n",
              "      <td>0.0</td>\n",
              "      <td>5.835000</td>\n",
              "      <td>5.835000</td>\n",
              "      <td>11.350000</td>\n",
              "      <td>3.07</td>\n",
              "      <td>1.023333</td>\n",
              "      <td>3.391667</td>\n",
              "    </tr>\n",
              "  </tbody>\n",
              "</table>\n",
              "<p>624 rows × 17 columns</p>\n",
              "</div>\n",
              "      <button class=\"colab-df-convert\" onclick=\"convertToInteractive('df-34ddac50-a12c-4c3b-89b2-a6b94d3e9029')\"\n",
              "              title=\"Convert this dataframe to an interactive table.\"\n",
              "              style=\"display:none;\">\n",
              "        \n",
              "  <svg xmlns=\"http://www.w3.org/2000/svg\" height=\"24px\"viewBox=\"0 0 24 24\"\n",
              "       width=\"24px\">\n",
              "    <path d=\"M0 0h24v24H0V0z\" fill=\"none\"/>\n",
              "    <path d=\"M18.56 5.44l.94 2.06.94-2.06 2.06-.94-2.06-.94-.94-2.06-.94 2.06-2.06.94zm-11 1L8.5 8.5l.94-2.06 2.06-.94-2.06-.94L8.5 2.5l-.94 2.06-2.06.94zm10 10l.94 2.06.94-2.06 2.06-.94-2.06-.94-.94-2.06-.94 2.06-2.06.94z\"/><path d=\"M17.41 7.96l-1.37-1.37c-.4-.4-.92-.59-1.43-.59-.52 0-1.04.2-1.43.59L10.3 9.45l-7.72 7.72c-.78.78-.78 2.05 0 2.83L4 21.41c.39.39.9.59 1.41.59.51 0 1.02-.2 1.41-.59l7.78-7.78 2.81-2.81c.8-.78.8-2.07 0-2.86zM5.41 20L4 18.59l7.72-7.72 1.47 1.35L5.41 20z\"/>\n",
              "  </svg>\n",
              "      </button>\n",
              "      \n",
              "  <style>\n",
              "    .colab-df-container {\n",
              "      display:flex;\n",
              "      flex-wrap:wrap;\n",
              "      gap: 12px;\n",
              "    }\n",
              "\n",
              "    .colab-df-convert {\n",
              "      background-color: #E8F0FE;\n",
              "      border: none;\n",
              "      border-radius: 50%;\n",
              "      cursor: pointer;\n",
              "      display: none;\n",
              "      fill: #1967D2;\n",
              "      height: 32px;\n",
              "      padding: 0 0 0 0;\n",
              "      width: 32px;\n",
              "    }\n",
              "\n",
              "    .colab-df-convert:hover {\n",
              "      background-color: #E2EBFA;\n",
              "      box-shadow: 0px 1px 2px rgba(60, 64, 67, 0.3), 0px 1px 3px 1px rgba(60, 64, 67, 0.15);\n",
              "      fill: #174EA6;\n",
              "    }\n",
              "\n",
              "    [theme=dark] .colab-df-convert {\n",
              "      background-color: #3B4455;\n",
              "      fill: #D2E3FC;\n",
              "    }\n",
              "\n",
              "    [theme=dark] .colab-df-convert:hover {\n",
              "      background-color: #434B5C;\n",
              "      box-shadow: 0px 1px 3px 1px rgba(0, 0, 0, 0.15);\n",
              "      filter: drop-shadow(0px 1px 2px rgba(0, 0, 0, 0.3));\n",
              "      fill: #FFFFFF;\n",
              "    }\n",
              "  </style>\n",
              "\n",
              "      <script>\n",
              "        const buttonEl =\n",
              "          document.querySelector('#df-34ddac50-a12c-4c3b-89b2-a6b94d3e9029 button.colab-df-convert');\n",
              "        buttonEl.style.display =\n",
              "          google.colab.kernel.accessAllowed ? 'block' : 'none';\n",
              "\n",
              "        async function convertToInteractive(key) {\n",
              "          const element = document.querySelector('#df-34ddac50-a12c-4c3b-89b2-a6b94d3e9029');\n",
              "          const dataTable =\n",
              "            await google.colab.kernel.invokeFunction('convertToInteractive',\n",
              "                                                     [key], {});\n",
              "          if (!dataTable) return;\n",
              "\n",
              "          const docLinkHtml = 'Like what you see? Visit the ' +\n",
              "            '<a target=\"_blank\" href=https://colab.research.google.com/notebooks/data_table.ipynb>data table notebook</a>'\n",
              "            + ' to learn more about interactive tables.';\n",
              "          element.innerHTML = '';\n",
              "          dataTable['output_type'] = 'display_data';\n",
              "          await google.colab.output.renderOutput(dataTable, element);\n",
              "          const docLink = document.createElement('div');\n",
              "          docLink.innerHTML = docLinkHtml;\n",
              "          element.appendChild(docLink);\n",
              "        }\n",
              "      </script>\n",
              "    </div>\n",
              "  </div>\n",
              "  "
            ]
          },
          "metadata": {},
          "execution_count": 149
        }
      ]
    },
    {
      "cell_type": "code",
      "source": [
        "Data['Mtl_Type'] = pd.factorize(Data['Mtl_Type'])[0]\n",
        "Data['Mtl_Form'] = pd.factorize(Data['Mtl_Form'])[0]\n",
        "Data['Class'] = pd.factorize(Data['Class'])[0]\n",
        "Data['Sector'] = pd.factorize(Data['Sector'])[0]"
      ],
      "metadata": {
        "id": "po4Abo9NvEj9"
      },
      "execution_count": null,
      "outputs": []
    },
    {
      "cell_type": "code",
      "source": [
        "Data"
      ],
      "metadata": {
        "colab": {
          "base_uri": "https://localhost:8080/",
          "height": 485
        },
        "id": "PkLyDxMXyF-R",
        "outputId": "8a05de36-1b5c-4f02-e869-31981039b942"
      },
      "execution_count": null,
      "outputs": [
        {
          "output_type": "execute_result",
          "data": {
            "text/plain": [
              "     Item  Class  Sector  Platform Label  Mtl_Type  Mtl_Form  Mtl_Thick (in)  \\\n",
              "0       2      0       0            22.0         0         0            2.75   \n",
              "1       3      0       0            22.0         0         0            2.00   \n",
              "2       4      0       0            22.0         0         0            2.75   \n",
              "3       5      0       0            22.0         0         0            2.00   \n",
              "4       6      1       1             6.0         1         1            2.00   \n",
              "..    ...    ...     ...             ...       ...       ...             ...   \n",
              "682  1106      7       1            19.0         8         7            4.00   \n",
              "683  1107      1       1            19.0         0         0            1.25   \n",
              "686  1112      2       2            17.0         0         0            2.75   \n",
              "687  1114      2       1            17.0         0         0            3.00   \n",
              "688  1116      1       1            17.0         0         0            1.50   \n",
              "\n",
              "     Mtl_Width (in)  Mtl_Length (in)  Mtl_Makes  Mtl_Axes  \\\n",
              "0             25.00            42.00        2.0       5.0   \n",
              "1             11.88            18.00        1.0       5.0   \n",
              "2             25.00            42.00        2.0       5.0   \n",
              "3             11.88            18.00        1.0       5.0   \n",
              "4              5.25            68.50        1.0       5.0   \n",
              "..              ...              ...        ...       ...   \n",
              "682            2.00             2.00        1.0       5.0   \n",
              "683           32.00            46.25        1.0       3.0   \n",
              "686           11.75            40.00        1.0       5.0   \n",
              "687           13.00            39.50        1.0       0.0   \n",
              "688           31.00            43.00        1.0       0.0   \n",
              "\n",
              "     Primary - Tmp (hrs)  Primary - Est (hrs)  Primary - Act (hrs)  \\\n",
              "0               4.000000             4.000000             5.241667   \n",
              "1               4.000000             4.000000             3.005000   \n",
              "2               4.000000             4.000000             5.177500   \n",
              "3               4.000000             4.000000             2.987500   \n",
              "4               4.000000             2.666667             2.825556   \n",
              "..                   ...                  ...                  ...   \n",
              "682             0.425000             0.482000             0.472718   \n",
              "683             5.230000             5.230000            10.074167   \n",
              "686             1.783333             1.783333             6.967222   \n",
              "687             1.460000             1.460000             4.531667   \n",
              "688             5.835000             5.835000            11.350000   \n",
              "\n",
              "     Deburr - Tmp (hrs)  Deburr - Est (hrs)  Deburr - Act (hrs)  \n",
              "0                  1.00            1.000000            1.911667  \n",
              "1                  0.50            0.500000            1.038333  \n",
              "2                  0.50            0.500000            1.993333  \n",
              "3                  0.50            0.500000            0.976667  \n",
              "4                  0.00            0.000000            0.598125  \n",
              "..                  ...                 ...                 ...  \n",
              "682                0.17            0.170000            0.128632  \n",
              "683                2.67            2.670000            1.502000  \n",
              "686                1.47            1.470000            2.071667  \n",
              "687                1.35            1.350000            2.527500  \n",
              "688                3.07            1.023333            3.391667  \n",
              "\n",
              "[624 rows x 17 columns]"
            ],
            "text/html": [
              "\n",
              "  <div id=\"df-357533a0-5494-46e8-8e15-c4afc0021d3c\">\n",
              "    <div class=\"colab-df-container\">\n",
              "      <div>\n",
              "<style scoped>\n",
              "    .dataframe tbody tr th:only-of-type {\n",
              "        vertical-align: middle;\n",
              "    }\n",
              "\n",
              "    .dataframe tbody tr th {\n",
              "        vertical-align: top;\n",
              "    }\n",
              "\n",
              "    .dataframe thead th {\n",
              "        text-align: right;\n",
              "    }\n",
              "</style>\n",
              "<table border=\"1\" class=\"dataframe\">\n",
              "  <thead>\n",
              "    <tr style=\"text-align: right;\">\n",
              "      <th></th>\n",
              "      <th>Item</th>\n",
              "      <th>Class</th>\n",
              "      <th>Sector</th>\n",
              "      <th>Platform Label</th>\n",
              "      <th>Mtl_Type</th>\n",
              "      <th>Mtl_Form</th>\n",
              "      <th>Mtl_Thick (in)</th>\n",
              "      <th>Mtl_Width (in)</th>\n",
              "      <th>Mtl_Length (in)</th>\n",
              "      <th>Mtl_Makes</th>\n",
              "      <th>Mtl_Axes</th>\n",
              "      <th>Primary - Tmp (hrs)</th>\n",
              "      <th>Primary - Est (hrs)</th>\n",
              "      <th>Primary - Act (hrs)</th>\n",
              "      <th>Deburr - Tmp (hrs)</th>\n",
              "      <th>Deburr - Est (hrs)</th>\n",
              "      <th>Deburr - Act (hrs)</th>\n",
              "    </tr>\n",
              "  </thead>\n",
              "  <tbody>\n",
              "    <tr>\n",
              "      <th>0</th>\n",
              "      <td>2</td>\n",
              "      <td>0</td>\n",
              "      <td>0</td>\n",
              "      <td>22.0</td>\n",
              "      <td>0</td>\n",
              "      <td>0</td>\n",
              "      <td>2.75</td>\n",
              "      <td>25.00</td>\n",
              "      <td>42.00</td>\n",
              "      <td>2.0</td>\n",
              "      <td>5.0</td>\n",
              "      <td>4.000000</td>\n",
              "      <td>4.000000</td>\n",
              "      <td>5.241667</td>\n",
              "      <td>1.00</td>\n",
              "      <td>1.000000</td>\n",
              "      <td>1.911667</td>\n",
              "    </tr>\n",
              "    <tr>\n",
              "      <th>1</th>\n",
              "      <td>3</td>\n",
              "      <td>0</td>\n",
              "      <td>0</td>\n",
              "      <td>22.0</td>\n",
              "      <td>0</td>\n",
              "      <td>0</td>\n",
              "      <td>2.00</td>\n",
              "      <td>11.88</td>\n",
              "      <td>18.00</td>\n",
              "      <td>1.0</td>\n",
              "      <td>5.0</td>\n",
              "      <td>4.000000</td>\n",
              "      <td>4.000000</td>\n",
              "      <td>3.005000</td>\n",
              "      <td>0.50</td>\n",
              "      <td>0.500000</td>\n",
              "      <td>1.038333</td>\n",
              "    </tr>\n",
              "    <tr>\n",
              "      <th>2</th>\n",
              "      <td>4</td>\n",
              "      <td>0</td>\n",
              "      <td>0</td>\n",
              "      <td>22.0</td>\n",
              "      <td>0</td>\n",
              "      <td>0</td>\n",
              "      <td>2.75</td>\n",
              "      <td>25.00</td>\n",
              "      <td>42.00</td>\n",
              "      <td>2.0</td>\n",
              "      <td>5.0</td>\n",
              "      <td>4.000000</td>\n",
              "      <td>4.000000</td>\n",
              "      <td>5.177500</td>\n",
              "      <td>0.50</td>\n",
              "      <td>0.500000</td>\n",
              "      <td>1.993333</td>\n",
              "    </tr>\n",
              "    <tr>\n",
              "      <th>3</th>\n",
              "      <td>5</td>\n",
              "      <td>0</td>\n",
              "      <td>0</td>\n",
              "      <td>22.0</td>\n",
              "      <td>0</td>\n",
              "      <td>0</td>\n",
              "      <td>2.00</td>\n",
              "      <td>11.88</td>\n",
              "      <td>18.00</td>\n",
              "      <td>1.0</td>\n",
              "      <td>5.0</td>\n",
              "      <td>4.000000</td>\n",
              "      <td>4.000000</td>\n",
              "      <td>2.987500</td>\n",
              "      <td>0.50</td>\n",
              "      <td>0.500000</td>\n",
              "      <td>0.976667</td>\n",
              "    </tr>\n",
              "    <tr>\n",
              "      <th>4</th>\n",
              "      <td>6</td>\n",
              "      <td>1</td>\n",
              "      <td>1</td>\n",
              "      <td>6.0</td>\n",
              "      <td>1</td>\n",
              "      <td>1</td>\n",
              "      <td>2.00</td>\n",
              "      <td>5.25</td>\n",
              "      <td>68.50</td>\n",
              "      <td>1.0</td>\n",
              "      <td>5.0</td>\n",
              "      <td>4.000000</td>\n",
              "      <td>2.666667</td>\n",
              "      <td>2.825556</td>\n",
              "      <td>0.00</td>\n",
              "      <td>0.000000</td>\n",
              "      <td>0.598125</td>\n",
              "    </tr>\n",
              "    <tr>\n",
              "      <th>...</th>\n",
              "      <td>...</td>\n",
              "      <td>...</td>\n",
              "      <td>...</td>\n",
              "      <td>...</td>\n",
              "      <td>...</td>\n",
              "      <td>...</td>\n",
              "      <td>...</td>\n",
              "      <td>...</td>\n",
              "      <td>...</td>\n",
              "      <td>...</td>\n",
              "      <td>...</td>\n",
              "      <td>...</td>\n",
              "      <td>...</td>\n",
              "      <td>...</td>\n",
              "      <td>...</td>\n",
              "      <td>...</td>\n",
              "      <td>...</td>\n",
              "    </tr>\n",
              "    <tr>\n",
              "      <th>682</th>\n",
              "      <td>1106</td>\n",
              "      <td>7</td>\n",
              "      <td>1</td>\n",
              "      <td>19.0</td>\n",
              "      <td>8</td>\n",
              "      <td>7</td>\n",
              "      <td>4.00</td>\n",
              "      <td>2.00</td>\n",
              "      <td>2.00</td>\n",
              "      <td>1.0</td>\n",
              "      <td>5.0</td>\n",
              "      <td>0.425000</td>\n",
              "      <td>0.482000</td>\n",
              "      <td>0.472718</td>\n",
              "      <td>0.17</td>\n",
              "      <td>0.170000</td>\n",
              "      <td>0.128632</td>\n",
              "    </tr>\n",
              "    <tr>\n",
              "      <th>683</th>\n",
              "      <td>1107</td>\n",
              "      <td>1</td>\n",
              "      <td>1</td>\n",
              "      <td>19.0</td>\n",
              "      <td>0</td>\n",
              "      <td>0</td>\n",
              "      <td>1.25</td>\n",
              "      <td>32.00</td>\n",
              "      <td>46.25</td>\n",
              "      <td>1.0</td>\n",
              "      <td>3.0</td>\n",
              "      <td>5.230000</td>\n",
              "      <td>5.230000</td>\n",
              "      <td>10.074167</td>\n",
              "      <td>2.67</td>\n",
              "      <td>2.670000</td>\n",
              "      <td>1.502000</td>\n",
              "    </tr>\n",
              "    <tr>\n",
              "      <th>686</th>\n",
              "      <td>1112</td>\n",
              "      <td>2</td>\n",
              "      <td>2</td>\n",
              "      <td>17.0</td>\n",
              "      <td>0</td>\n",
              "      <td>0</td>\n",
              "      <td>2.75</td>\n",
              "      <td>11.75</td>\n",
              "      <td>40.00</td>\n",
              "      <td>1.0</td>\n",
              "      <td>5.0</td>\n",
              "      <td>1.783333</td>\n",
              "      <td>1.783333</td>\n",
              "      <td>6.967222</td>\n",
              "      <td>1.47</td>\n",
              "      <td>1.470000</td>\n",
              "      <td>2.071667</td>\n",
              "    </tr>\n",
              "    <tr>\n",
              "      <th>687</th>\n",
              "      <td>1114</td>\n",
              "      <td>2</td>\n",
              "      <td>1</td>\n",
              "      <td>17.0</td>\n",
              "      <td>0</td>\n",
              "      <td>0</td>\n",
              "      <td>3.00</td>\n",
              "      <td>13.00</td>\n",
              "      <td>39.50</td>\n",
              "      <td>1.0</td>\n",
              "      <td>0.0</td>\n",
              "      <td>1.460000</td>\n",
              "      <td>1.460000</td>\n",
              "      <td>4.531667</td>\n",
              "      <td>1.35</td>\n",
              "      <td>1.350000</td>\n",
              "      <td>2.527500</td>\n",
              "    </tr>\n",
              "    <tr>\n",
              "      <th>688</th>\n",
              "      <td>1116</td>\n",
              "      <td>1</td>\n",
              "      <td>1</td>\n",
              "      <td>17.0</td>\n",
              "      <td>0</td>\n",
              "      <td>0</td>\n",
              "      <td>1.50</td>\n",
              "      <td>31.00</td>\n",
              "      <td>43.00</td>\n",
              "      <td>1.0</td>\n",
              "      <td>0.0</td>\n",
              "      <td>5.835000</td>\n",
              "      <td>5.835000</td>\n",
              "      <td>11.350000</td>\n",
              "      <td>3.07</td>\n",
              "      <td>1.023333</td>\n",
              "      <td>3.391667</td>\n",
              "    </tr>\n",
              "  </tbody>\n",
              "</table>\n",
              "<p>624 rows × 17 columns</p>\n",
              "</div>\n",
              "      <button class=\"colab-df-convert\" onclick=\"convertToInteractive('df-357533a0-5494-46e8-8e15-c4afc0021d3c')\"\n",
              "              title=\"Convert this dataframe to an interactive table.\"\n",
              "              style=\"display:none;\">\n",
              "        \n",
              "  <svg xmlns=\"http://www.w3.org/2000/svg\" height=\"24px\"viewBox=\"0 0 24 24\"\n",
              "       width=\"24px\">\n",
              "    <path d=\"M0 0h24v24H0V0z\" fill=\"none\"/>\n",
              "    <path d=\"M18.56 5.44l.94 2.06.94-2.06 2.06-.94-2.06-.94-.94-2.06-.94 2.06-2.06.94zm-11 1L8.5 8.5l.94-2.06 2.06-.94-2.06-.94L8.5 2.5l-.94 2.06-2.06.94zm10 10l.94 2.06.94-2.06 2.06-.94-2.06-.94-.94-2.06-.94 2.06-2.06.94z\"/><path d=\"M17.41 7.96l-1.37-1.37c-.4-.4-.92-.59-1.43-.59-.52 0-1.04.2-1.43.59L10.3 9.45l-7.72 7.72c-.78.78-.78 2.05 0 2.83L4 21.41c.39.39.9.59 1.41.59.51 0 1.02-.2 1.41-.59l7.78-7.78 2.81-2.81c.8-.78.8-2.07 0-2.86zM5.41 20L4 18.59l7.72-7.72 1.47 1.35L5.41 20z\"/>\n",
              "  </svg>\n",
              "      </button>\n",
              "      \n",
              "  <style>\n",
              "    .colab-df-container {\n",
              "      display:flex;\n",
              "      flex-wrap:wrap;\n",
              "      gap: 12px;\n",
              "    }\n",
              "\n",
              "    .colab-df-convert {\n",
              "      background-color: #E8F0FE;\n",
              "      border: none;\n",
              "      border-radius: 50%;\n",
              "      cursor: pointer;\n",
              "      display: none;\n",
              "      fill: #1967D2;\n",
              "      height: 32px;\n",
              "      padding: 0 0 0 0;\n",
              "      width: 32px;\n",
              "    }\n",
              "\n",
              "    .colab-df-convert:hover {\n",
              "      background-color: #E2EBFA;\n",
              "      box-shadow: 0px 1px 2px rgba(60, 64, 67, 0.3), 0px 1px 3px 1px rgba(60, 64, 67, 0.15);\n",
              "      fill: #174EA6;\n",
              "    }\n",
              "\n",
              "    [theme=dark] .colab-df-convert {\n",
              "      background-color: #3B4455;\n",
              "      fill: #D2E3FC;\n",
              "    }\n",
              "\n",
              "    [theme=dark] .colab-df-convert:hover {\n",
              "      background-color: #434B5C;\n",
              "      box-shadow: 0px 1px 3px 1px rgba(0, 0, 0, 0.15);\n",
              "      filter: drop-shadow(0px 1px 2px rgba(0, 0, 0, 0.3));\n",
              "      fill: #FFFFFF;\n",
              "    }\n",
              "  </style>\n",
              "\n",
              "      <script>\n",
              "        const buttonEl =\n",
              "          document.querySelector('#df-357533a0-5494-46e8-8e15-c4afc0021d3c button.colab-df-convert');\n",
              "        buttonEl.style.display =\n",
              "          google.colab.kernel.accessAllowed ? 'block' : 'none';\n",
              "\n",
              "        async function convertToInteractive(key) {\n",
              "          const element = document.querySelector('#df-357533a0-5494-46e8-8e15-c4afc0021d3c');\n",
              "          const dataTable =\n",
              "            await google.colab.kernel.invokeFunction('convertToInteractive',\n",
              "                                                     [key], {});\n",
              "          if (!dataTable) return;\n",
              "\n",
              "          const docLinkHtml = 'Like what you see? Visit the ' +\n",
              "            '<a target=\"_blank\" href=https://colab.research.google.com/notebooks/data_table.ipynb>data table notebook</a>'\n",
              "            + ' to learn more about interactive tables.';\n",
              "          element.innerHTML = '';\n",
              "          dataTable['output_type'] = 'display_data';\n",
              "          await google.colab.output.renderOutput(dataTable, element);\n",
              "          const docLink = document.createElement('div');\n",
              "          docLink.innerHTML = docLinkHtml;\n",
              "          element.appendChild(docLink);\n",
              "        }\n",
              "      </script>\n",
              "    </div>\n",
              "  </div>\n",
              "  "
            ]
          },
          "metadata": {},
          "execution_count": 151
        }
      ]
    },
    {
      "cell_type": "code",
      "source": [
        "NumCat_data = Data[['Class',\t'Sector',\t'Platform Label',\t'Mtl_Type',\t'Mtl_Form',\t'Mtl_Thick (in)',\t'Mtl_Width (in)',\t'Mtl_Length (in)',\t'Mtl_Makes'\t,'Mtl_Axes']]"
      ],
      "metadata": {
        "id": "TydI2JwVyRZg"
      },
      "execution_count": null,
      "outputs": []
    },
    {
      "cell_type": "code",
      "source": [
        "def xgPrimTemp(x, y):\n",
        "\n",
        "  x_train, x_test, y_train, y_test = train_test_split(x, y, test_size=0.2, random_state=42)\n",
        "\n",
        "  model = XGBRegressor(learning_rate=0.05,max_depth=2,n_estimators=5000).fit(x,y)\n",
        "\n",
        "  predictions = model.predict(x_test)\n",
        "  print(f\"Mean squared error: {mean_squared_error(y_test, predictions)}\")\n",
        "  avg_hrs =  np.sum(np.abs(predictions - y_test))/len(y_test)\n",
        "  print(avg_hrs)\n",
        "  score = model.score(x_test, y_test)\n",
        "\n",
        "  return avg_hrs, score\n"
      ],
      "metadata": {
        "id": "u_IHv_NMsset"
      },
      "execution_count": null,
      "outputs": []
    },
    {
      "cell_type": "code",
      "source": [
        "xgPrimTemp_avg_hrs, xgPrimTemp_score = xgPrimTemp(NumCat_data,  Data['Primary - Tmp (hrs)'])"
      ],
      "metadata": {
        "colab": {
          "base_uri": "https://localhost:8080/"
        },
        "id": "tslKISnjuM0T",
        "outputId": "d981cafd-6b63-454f-8868-c7a3c5223a4c"
      },
      "execution_count": null,
      "outputs": [
        {
          "output_type": "stream",
          "name": "stdout",
          "text": [
            "[05:28:57] WARNING: /workspace/src/objective/regression_obj.cu:152: reg:linear is now deprecated in favor of reg:squarederror.\n",
            "Mean squared error: 0.09388966802223529\n",
            "0.18170358762995403\n"
          ]
        }
      ]
    },
    {
      "cell_type": "code",
      "source": [
        "def xgPrimAct(x, y):\n",
        "\n",
        "  x_train, x_test, y_train, y_test = train_test_split(x, y, test_size=0.2, random_state=42)\n",
        "\n",
        "  model = XGBRegressor(learning_rate=0.05,max_depth=2,n_estimators=5000).fit(x,y)\n",
        "\n",
        "  predictions = model.predict(x_test)\n",
        "  print(f\"Mean squared error: {mean_squared_error(y_test, predictions)}\")\n",
        "  avg_hrs =  np.sum(np.abs(predictions - y_test))/len(y_test)\n",
        "  print(avg_hrs)\n",
        "  score = model.score(x_test, y_test)\n",
        "\n",
        "  return avg_hrs, score\n"
      ],
      "metadata": {
        "id": "ji3sMCntM_Cu"
      },
      "execution_count": null,
      "outputs": []
    },
    {
      "cell_type": "code",
      "source": [
        "xgPrimAct_avg_hrs, xgPrimAct_score = xgPrimAct(NumCat_data,  Data['Primary - Act (hrs)'])"
      ],
      "metadata": {
        "id": "fWG562ESrM3-",
        "colab": {
          "base_uri": "https://localhost:8080/"
        },
        "outputId": "e878eea1-fa9a-4dee-8352-057b93f40e8c"
      },
      "execution_count": null,
      "outputs": [
        {
          "output_type": "stream",
          "name": "stdout",
          "text": [
            "[05:29:47] WARNING: /workspace/src/objective/regression_obj.cu:152: reg:linear is now deprecated in favor of reg:squarederror.\n",
            "Mean squared error: 0.4358640131266626\n",
            "0.3822330272097643\n"
          ]
        }
      ]
    },
    {
      "cell_type": "code",
      "source": [
        "def xgDeburTemp(x, y):\n",
        "\n",
        "  x_train, x_test, y_train, y_test = train_test_split(x, y, test_size=0.2, random_state=42)\n",
        "\n",
        "  model = XGBRegressor(learning_rate=0.05,max_depth=2,n_estimators=5000).fit(x,y)\n",
        "\n",
        "  predictions = model.predict(x_test)\n",
        "  print(f\"Mean squared error: {mean_squared_error(y_test, predictions)}\")\n",
        "  avg_hrs =  np.sum(np.abs(predictions - y_test))/len(y_test)\n",
        "  print(\"Average hours : \",avg_hrs)\n",
        "  score = model.score(x_test, y_test)\n",
        "\n",
        "  return avg_hrs, score\n"
      ],
      "metadata": {
        "id": "2j2esleArMyf"
      },
      "execution_count": null,
      "outputs": []
    },
    {
      "cell_type": "code",
      "source": [
        "xgDeburTemp_avg_hrs, xgDeburTemp_score = xgDeburTemp(NumCat_data,  Data['Deburr - Tmp (hrs)'])"
      ],
      "metadata": {
        "id": "GFG11V1lrMv5",
        "colab": {
          "base_uri": "https://localhost:8080/"
        },
        "outputId": "db5a8853-e88c-4b3f-efcb-067e8dc31a42"
      },
      "execution_count": null,
      "outputs": [
        {
          "output_type": "stream",
          "name": "stdout",
          "text": [
            "[05:30:27] WARNING: /workspace/src/objective/regression_obj.cu:152: reg:linear is now deprecated in favor of reg:squarederror.\n",
            "Mean squared error: 0.037355842075429156\n",
            "Average hours :  0.09679567767143249\n"
          ]
        }
      ]
    },
    {
      "cell_type": "code",
      "source": [
        "def xgDeburAct(x, y):\n",
        "\n",
        "  x_train, x_test, y_train, y_test = train_test_split(x, y, test_size=0.2, random_state=42)\n",
        "\n",
        "  model = XGBRegressor(learning_rate=0.05,max_depth=2,n_estimators=5000).fit(x,y)\n",
        "\n",
        "  predictions = model.predict(x_test)\n",
        "  print(f\"Mean squared error: {mean_squared_error(y_test, predictions)}\")\n",
        "  avg_hrs =  np.sum(np.abs(predictions - y_test))/len(y_test)\n",
        "  print(\"Average hours : \",avg_hrs)\n",
        "  score = model.score(x_test, y_test)\n",
        "\n",
        "  return avg_hrs, score\n"
      ],
      "metadata": {
        "id": "Z0wcKONOrMtC"
      },
      "execution_count": null,
      "outputs": []
    },
    {
      "cell_type": "code",
      "source": [
        "xgDeburAct_avg_hrs, xgDeburAct_score = xgDeburAct(NumCat_data,  Data['Deburr - Act (hrs)'])"
      ],
      "metadata": {
        "id": "kquiRWkmrMpZ",
        "colab": {
          "base_uri": "https://localhost:8080/"
        },
        "outputId": "3ff69e03-efaa-4cd2-d216-72eed32f4846"
      },
      "execution_count": null,
      "outputs": [
        {
          "output_type": "stream",
          "name": "stdout",
          "text": [
            "[05:31:02] WARNING: /workspace/src/objective/regression_obj.cu:152: reg:linear is now deprecated in favor of reg:squarederror.\n",
            "Mean squared error: 0.13367565892473887\n",
            "Average hours :  0.21883775655908116\n"
          ]
        }
      ]
    },
    {
      "cell_type": "code",
      "source": [
        "def xgCombinedTemp(x, y):\n",
        "\n",
        "  x_train, x_test, y_train, y_test = train_test_split(x, y, test_size=0.2, random_state=42)\n",
        "\n",
        "  model = XGBRegressor(learning_rate=0.05,max_depth=2,n_estimators=5000).fit(x,y)\n",
        "\n",
        "  predictions = model.predict(x_test)\n",
        "  print(f\"Mean squared error: {mean_squared_error(y_test, predictions)}\")\n",
        "  avg_hrs =  np.sum(np.abs(predictions - y_test))/len(y_test)\n",
        "  print(\"Average hours : \",avg_hrs)\n",
        "  score = model.score(x_test, y_test)\n",
        "\n",
        "  return avg_hrs, score,predictions, y_test"
      ],
      "metadata": {
        "id": "g_W3akLKrMlw"
      },
      "execution_count": null,
      "outputs": []
    },
    {
      "cell_type": "code",
      "source": [
        "xgCombinedTemp_avg_hrs, xgCombinedTemp_score, xgCombinedTemp_pred, xgCombinedTemp_test =  xgCombinedTemp(NumCat_data,  combinedTemp)"
      ],
      "metadata": {
        "colab": {
          "base_uri": "https://localhost:8080/"
        },
        "id": "S7cse0jMq7op",
        "outputId": "37a75360-c814-4942-f6bc-ba5b236ffa7e"
      },
      "execution_count": null,
      "outputs": [
        {
          "output_type": "stream",
          "name": "stdout",
          "text": [
            "[05:31:46] WARNING: /workspace/src/objective/regression_obj.cu:152: reg:linear is now deprecated in favor of reg:squarederror.\n",
            "Mean squared error: 0.1521391096629296\n",
            "Average hours :  0.23270061553255716\n"
          ]
        }
      ]
    },
    {
      "cell_type": "code",
      "source": [
        "def xgCombinedAct(x, y):\n",
        "\n",
        "  x_train, x_test, y_train, y_test = train_test_split(x, y, test_size=0.2, random_state=42)\n",
        "\n",
        "  model = XGBRegressor(learning_rate=0.05,max_depth=2,n_estimators=5000).fit(x,y)\n",
        "\n",
        "  predictions = model.predict(x_test)\n",
        "  print(f\"Mean squared error: {mean_squared_error(y_test, predictions)}\")\n",
        "  avg_hrs =  np.sum(np.abs(predictions - y_test))/len(y_test)\n",
        "  print(\"Average hours : \",avg_hrs)\n",
        "  score = model.score(x_test, y_test)\n",
        "\n",
        "  return avg_hrs, score,predictions, y_test"
      ],
      "metadata": {
        "id": "aNsp4f6Gq7mD"
      },
      "execution_count": null,
      "outputs": []
    },
    {
      "cell_type": "code",
      "source": [
        "xgCombinedAct_avg_hrs, xgCombinedAct_score, xgCombinedAct_pred, xgCombinedAct_test = xgCombinedAct(NumCat_data,  combinedAct)"
      ],
      "metadata": {
        "colab": {
          "base_uri": "https://localhost:8080/"
        },
        "id": "cXv4iuQiq7jL",
        "outputId": "5d789447-10e8-46e1-dbc4-145444c3009f"
      },
      "execution_count": null,
      "outputs": [
        {
          "output_type": "stream",
          "name": "stdout",
          "text": [
            "[05:32:31] WARNING: /workspace/src/objective/regression_obj.cu:152: reg:linear is now deprecated in favor of reg:squarederror.\n",
            "Mean squared error: 0.6080662048341922\n",
            "Average hours :  0.47238435478191343\n"
          ]
        }
      ]
    },
    {
      "cell_type": "code",
      "source": [
        "x_values = range(0,len(primTemp_test))\n",
        "plt.scatter(x_values , primTemp_pred, c= \"r\")\n",
        "plt.scatter(x_values, primTemp_test)\n",
        "\n",
        "plt.title('Scatterplot and Correlations')\n",
        "plt.legend()\n",
        "plt.show()"
      ],
      "metadata": {
        "colab": {
          "base_uri": "https://localhost:8080/",
          "height": 704
        },
        "id": "gbHKGDRFq7gV",
        "outputId": "d48ddb47-fa35-4915-8b6e-e8628842c101"
      },
      "execution_count": null,
      "outputs": [
        {
          "output_type": "stream",
          "name": "stderr",
          "text": [
            "WARNING:matplotlib.legend:No handles with labels found to put in legend.\n"
          ]
        },
        {
          "output_type": "display_data",
          "data": {
            "text/plain": [
              "<Figure size 1000x800 with 1 Axes>"
            ],
            "image/png": "[encoded data removed]"
          },
          "metadata": {
            "needs_background": "light"
          }
        }
      ]
    },
    {
      "cell_type": "code",
      "source": [
        "x_values = range(0,len(primTemp_test))\n",
        "plt.scatter(x_values , primTemp_pred, c= \"r\", label= \"Predictions\")\n",
        "plt.scatter(x_values, primTemp_test,label= \"Actual\")\n",
        "\n",
        "plt.title('Scatterplot and Correlations')\n",
        "plt.xlabel(\"Number of samples\")\n",
        "plt.ylabel(\"Predictions and Actual machine hours\")\n",
        "plt.legend()\n",
        "plt.show()"
      ],
      "metadata": {
        "colab": {
          "base_uri": "https://localhost:8080/",
          "height": 706
        },
        "id": "lvyPNKeRCMeR",
        "outputId": "fb4ac58e-a25b-44af-a79e-87b4f7395853"
      },
      "execution_count": null,
      "outputs": [
        {
          "output_type": "display_data",
          "data": {
            "text/plain": [
              "<Figure size 1000x800 with 1 Axes>"
            ],
            "image/png": "[encoded data removed]"
          },
          "metadata": {
            "needs_background": "light"
          }
        }
      ]
    },
    {
      "cell_type": "code",
      "source": [
        "x_values = range(0,len(primTemp_test))\n",
        "plt.scatter(x_values , combinedTemp_pred, c= \"r\", label= \"Predictions\")\n",
        "plt.scatter(x_values, combinedTemp_test,label= \"Actual\")\n",
        "\n",
        "plt.xlabel(\"Number of samples\")\n",
        "plt.ylabel(\"Predictions and Actual machine hours\")\n",
        "plt.legend()\n",
        "plt.show()"
      ],
      "metadata": {
        "colab": {
          "base_uri": "https://localhost:8080/",
          "height": 684
        },
        "id": "xozbDnhoEOoM",
        "outputId": "f60197c0-ae33-4614-9c64-d15ca8fd9b17"
      },
      "execution_count": null,
      "outputs": [
        {
          "output_type": "display_data",
          "data": {
            "text/plain": [
              "<Figure size 1000x800 with 1 Axes>"
            ],
            "image/png": "[encoded data removed]"
          },
          "metadata": {
            "needs_background": "light"
          }
        }
      ]
    },
    {
      "cell_type": "code",
      "source": [
        "x_values = range(0,len(primTemp_test))\n",
        "plt.scatter(x_values , combinedAct_pred, c= \"r\", label= \"Predictions\")\n",
        "plt.scatter(x_values, combinedAct_test,label= \"Actual\")\n",
        "\n",
        "plt.xlabel(\"Number of samples\")\n",
        "plt.ylabel(\"Predictions and Actual machine hours\")\n",
        "plt.legend()\n",
        "plt.show()\n"
      ],
      "metadata": {
        "colab": {
          "base_uri": "https://localhost:8080/",
          "height": 684
        },
        "id": "6eP2XEcnCMYy",
        "outputId": "3a2a3b62-b7d2-4f6e-8be2-8843348ca7b6"
      },
      "execution_count": null,
      "outputs": [
        {
          "output_type": "display_data",
          "data": {
            "text/plain": [
              "<Figure size 1000x800 with 1 Axes>"
            ],
            "image/png": "[encoded data removed]"
          },
          "metadata": {
            "needs_background": "light"
          }
        }
      ]
    },
    {
      "cell_type": "code",
      "source": [
        "x_values = range(0,len(primTemp_test))\n",
        "plt.scatter(x_values , xgCombinedTemp_pred, c= \"r\", label= \"Predictions\")\n",
        "plt.scatter(x_values, xgCombinedTemp_test,label= \"Actual\")\n",
        "\n",
        "plt.xlabel(\"Number of samples\")\n",
        "plt.ylabel(\"Predictions and Actual machine hours\")\n",
        "plt.legend()\n",
        "plt.show()"
      ],
      "metadata": {
        "colab": {
          "base_uri": "https://localhost:8080/",
          "height": 684
        },
        "id": "7PqSoWGsCMVs",
        "outputId": "b66dfd53-11db-412b-ebfc-17f9e49c53d4"
      },
      "execution_count": null,
      "outputs": [
        {
          "output_type": "display_data",
          "data": {
            "text/plain": [
              "<Figure size 1000x800 with 1 Axes>"
            ],
            "image/png": "[encoded data removed]"
          },
          "metadata": {
            "needs_background": "light"
          }
        }
      ]
    },
    {
      "cell_type": "code",
      "source": [
        "x_values = range(0,len(primTemp_test))\n",
        "plt.scatter(x_values , xgCombinedAct_pred, c= \"r\", label= \"Predictions\")\n",
        "plt.scatter(x_values, xgCombinedAct_test,label= \"Actual\")\n",
        "\n",
        "plt.xlabel(\"Number of samples\")\n",
        "plt.ylabel(\"Predictions and Actual machine hours\")\n",
        "plt.legend()\n",
        "plt.show()"
      ],
      "metadata": {
        "colab": {
          "base_uri": "https://localhost:8080/",
          "height": 684
        },
        "id": "7JqcpmZrPluh",
        "outputId": "f984e456-b3c7-4fe9-dea7-b14f67a7bcfb"
      },
      "execution_count": null,
      "outputs": [
        {
          "output_type": "display_data",
          "data": {
            "text/plain": [
              "<Figure size 1000x800 with 1 Axes>"
            ],
            "image/png": "[encoded data removed]"
          },
          "metadata": {
            "needs_background": "light"
          }
        }
      ]
    },
    {
      "cell_type": "code",
      "source": [
        "DataFrame = [['Primary Template/ Estimates',primTemp_avg_hrs, primTemp_score],['Primary Actual', primAct_avg_hrs, primAct_score],['Debur Template/Estimated', Deburtemp_avg_hrs, DeburTemp_score],\n",
        "             ['Debur Actual', DeburAct_avg_hrs, DeburAct_avg_hrs],['Primary+Debur Template', combinedTemp_avg_hrs, combinedTemp_score],['Primary+Debur Actual',combinedAct_avg_hrs, combinedAct_score]]\n",
        "\n",
        "\n",
        "df = pd.DataFrame(DataFrame, columns=[' ', 'Average Hours','Co-relation Score'])"
      ],
      "metadata": {
        "id": "SG6J_QirPlsa"
      },
      "execution_count": null,
      "outputs": []
    },
    {
      "cell_type": "code",
      "source": [
        "df"
      ],
      "metadata": {
        "colab": {
          "base_uri": "https://localhost:8080/",
          "height": 238
        },
        "id": "jAjGYfdePlnf",
        "outputId": "49ebc198-5559-4a60-d782-18c8ac3544cd"
      },
      "execution_count": null,
      "outputs": [
        {
          "output_type": "execute_result",
          "data": {
            "text/plain": [
              "                                Average Hours  Co-relation Score\n",
              "0  Primary Template/ Estimates       0.996879           0.746324\n",
              "1               Primary Actual       1.303146           0.779212\n",
              "2     Debur Template/Estimated       0.460107           0.588357\n",
              "3                 Debur Actual       0.579381           0.579381\n",
              "4       Primary+Debur Template       1.379999           0.726995\n",
              "5         Primary+Debur Actual       1.539839           0.795512"
            ],
            "text/html": [
              "\n",
              "  <div id=\"df-6e3d82d1-b27c-4205-aee8-165e6ee445e2\">\n",
              "    <div class=\"colab-df-container\">\n",
              "      <div>\n",
              "<style scoped>\n",
              "    .dataframe tbody tr th:only-of-type {\n",
              "        vertical-align: middle;\n",
              "    }\n",
              "\n",
              "    .dataframe tbody tr th {\n",
              "        vertical-align: top;\n",
              "    }\n",
              "\n",
              "    .dataframe thead th {\n",
              "        text-align: right;\n",
              "    }\n",
              "</style>\n",
              "<table border=\"1\" class=\"dataframe\">\n",
              "  <thead>\n",
              "    <tr style=\"text-align: right;\">\n",
              "      <th></th>\n",
              "      <th></th>\n",
              "      <th>Average Hours</th>\n",
              "      <th>Co-relation Score</th>\n",
              "    </tr>\n",
              "  </thead>\n",
              "  <tbody>\n",
              "    <tr>\n",
              "      <th>0</th>\n",
              "      <td>Primary Template/ Estimates</td>\n",
              "      <td>0.996879</td>\n",
              "      <td>0.746324</td>\n",
              "    </tr>\n",
              "    <tr>\n",
              "      <th>1</th>\n",
              "      <td>Primary Actual</td>\n",
              "      <td>1.303146</td>\n",
              "      <td>0.779212</td>\n",
              "    </tr>\n",
              "    <tr>\n",
              "      <th>2</th>\n",
              "      <td>Debur Template/Estimated</td>\n",
              "      <td>0.460107</td>\n",
              "      <td>0.588357</td>\n",
              "    </tr>\n",
              "    <tr>\n",
              "      <th>3</th>\n",
              "      <td>Debur Actual</td>\n",
              "      <td>0.579381</td>\n",
              "      <td>0.579381</td>\n",
              "    </tr>\n",
              "    <tr>\n",
              "      <th>4</th>\n",
              "      <td>Primary+Debur Template</td>\n",
              "      <td>1.379999</td>\n",
              "      <td>0.726995</td>\n",
              "    </tr>\n",
              "    <tr>\n",
              "      <th>5</th>\n",
              "      <td>Primary+Debur Actual</td>\n",
              "      <td>1.539839</td>\n",
              "      <td>0.795512</td>\n",
              "    </tr>\n",
              "  </tbody>\n",
              "</table>\n",
              "</div>\n",
              "      <button class=\"colab-df-convert\" onclick=\"convertToInteractive('df-6e3d82d1-b27c-4205-aee8-165e6ee445e2')\"\n",
              "              title=\"Convert this dataframe to an interactive table.\"\n",
              "              style=\"display:none;\">\n",
              "        \n",
              "  <svg xmlns=\"http://www.w3.org/2000/svg\" height=\"24px\"viewBox=\"0 0 24 24\"\n",
              "       width=\"24px\">\n",
              "    <path d=\"M0 0h24v24H0V0z\" fill=\"none\"/>\n",
              "    <path d=\"M18.56 5.44l.94 2.06.94-2.06 2.06-.94-2.06-.94-.94-2.06-.94 2.06-2.06.94zm-11 1L8.5 8.5l.94-2.06 2.06-.94-2.06-.94L8.5 2.5l-.94 2.06-2.06.94zm10 10l.94 2.06.94-2.06 2.06-.94-2.06-.94-.94-2.06-.94 2.06-2.06.94z\"/><path d=\"M17.41 7.96l-1.37-1.37c-.4-.4-.92-.59-1.43-.59-.52 0-1.04.2-1.43.59L10.3 9.45l-7.72 7.72c-.78.78-.78 2.05 0 2.83L4 21.41c.39.39.9.59 1.41.59.51 0 1.02-.2 1.41-.59l7.78-7.78 2.81-2.81c.8-.78.8-2.07 0-2.86zM5.41 20L4 18.59l7.72-7.72 1.47 1.35L5.41 20z\"/>\n",
              "  </svg>\n",
              "      </button>\n",
              "      \n",
              "  <style>\n",
              "    .colab-df-container {\n",
              "      display:flex;\n",
              "      flex-wrap:wrap;\n",
              "      gap: 12px;\n",
              "    }\n",
              "\n",
              "    .colab-df-convert {\n",
              "      background-color: #E8F0FE;\n",
              "      border: none;\n",
              "      border-radius: 50%;\n",
              "      cursor: pointer;\n",
              "      display: none;\n",
              "      fill: #1967D2;\n",
              "      height: 32px;\n",
              "      padding: 0 0 0 0;\n",
              "      width: 32px;\n",
              "    }\n",
              "\n",
              "    .colab-df-convert:hover {\n",
              "      background-color: #E2EBFA;\n",
              "      box-shadow: 0px 1px 2px rgba(60, 64, 67, 0.3), 0px 1px 3px 1px rgba(60, 64, 67, 0.15);\n",
              "      fill: #174EA6;\n",
              "    }\n",
              "\n",
              "    [theme=dark] .colab-df-convert {\n",
              "      background-color: #3B4455;\n",
              "      fill: #D2E3FC;\n",
              "    }\n",
              "\n",
              "    [theme=dark] .colab-df-convert:hover {\n",
              "      background-color: #434B5C;\n",
              "      box-shadow: 0px 1px 3px 1px rgba(0, 0, 0, 0.15);\n",
              "      filter: drop-shadow(0px 1px 2px rgba(0, 0, 0, 0.3));\n",
              "      fill: #FFFFFF;\n",
              "    }\n",
              "  </style>\n",
              "\n",
              "      <script>\n",
              "        const buttonEl =\n",
              "          document.querySelector('#df-6e3d82d1-b27c-4205-aee8-165e6ee445e2 button.colab-df-convert');\n",
              "        buttonEl.style.display =\n",
              "          google.colab.kernel.accessAllowed ? 'block' : 'none';\n",
              "\n",
              "        async function convertToInteractive(key) {\n",
              "          const element = document.querySelector('#df-6e3d82d1-b27c-4205-aee8-165e6ee445e2');\n",
              "          const dataTable =\n",
              "            await google.colab.kernel.invokeFunction('convertToInteractive',\n",
              "                                                     [key], {});\n",
              "          if (!dataTable) return;\n",
              "\n",
              "          const docLinkHtml = 'Like what you see? Visit the ' +\n",
              "            '<a target=\"_blank\" href=https://colab.research.google.com/notebooks/data_table.ipynb>data table notebook</a>'\n",
              "            + ' to learn more about interactive tables.';\n",
              "          element.innerHTML = '';\n",
              "          dataTable['output_type'] = 'display_data';\n",
              "          await google.colab.output.renderOutput(dataTable, element);\n",
              "          const docLink = document.createElement('div');\n",
              "          docLink.innerHTML = docLinkHtml;\n",
              "          element.appendChild(docLink);\n",
              "        }\n",
              "      </script>\n",
              "    </div>\n",
              "  </div>\n",
              "  "
            ]
          },
          "metadata": {},
          "execution_count": 223
        }
      ]
    },
    {
      "cell_type": "code",
      "source": [
        "DataFrame1 = [['Primary Template/ Estimates ',xgPrimTemp_avg_hrs, xgPrimTemp_score],['Primary Actual', xgPrimAct_avg_hrs, xgPrimAct_score],['Debur Template/Estimated', xgDeburTemp_avg_hrs, xgDeburTemp_score],\n",
        "             ['Debur Actual', xgDeburAct_avg_hrs, xgDeburAct_score],['Primary+Debur Template', xgCombinedTemp_avg_hrs, xgCombinedTemp_score],['Primary+Debur Actual',xgCombinedAct_avg_hrs, xgCombinedAct_score]]\n",
        "\n",
        "\n",
        "df = pd.DataFrame(DataFrame1, columns=['(numerical and categorical with parameter tuning) ', 'Average Hours','Co-relation Score'])"
      ],
      "metadata": {
        "id": "lNxCx6U0b-ke"
      },
      "execution_count": null,
      "outputs": []
    },
    {
      "cell_type": "code",
      "source": [
        "df"
      ],
      "metadata": {
        "colab": {
          "base_uri": "https://localhost:8080/",
          "height": 238
        },
        "id": "ii45y07Te4xS",
        "outputId": "08e7fa24-1e74-43d7-fb9f-80087cf55e9d"
      },
      "execution_count": null,
      "outputs": [
        {
          "output_type": "execute_result",
          "data": {
            "text/plain": [
              "  (numerical and categorical with parameter tuning)   Average Hours  \\\n",
              "0                       Primary Template/ Estimates        0.181704   \n",
              "1                                     Primary Actual       0.382233   \n",
              "2                           Debur Template/Estimated       0.096796   \n",
              "3                                       Debur Actual       0.218838   \n",
              "4                             Primary+Debur Template       0.232701   \n",
              "5                               Primary+Debur Actual       0.472384   \n",
              "\n",
              "   Co-relation Score  \n",
              "0           0.995963  \n",
              "1           0.981594  \n",
              "2           0.983221  \n",
              "3           0.931636  \n",
              "4           0.995375  \n",
              "5           0.982669  "
            ],
            "text/html": [
              "\n",
              "  <div id=\"df-7dae942c-df27-4687-83d8-f89c72611ec4\">\n",
              "    <div class=\"colab-df-container\">\n",
              "      <div>\n",
              "<style scoped>\n",
              "    .dataframe tbody tr th:only-of-type {\n",
              "        vertical-align: middle;\n",
              "    }\n",
              "\n",
              "    .dataframe tbody tr th {\n",
              "        vertical-align: top;\n",
              "    }\n",
              "\n",
              "    .dataframe thead th {\n",
              "        text-align: right;\n",
              "    }\n",
              "</style>\n",
              "<table border=\"1\" class=\"dataframe\">\n",
              "  <thead>\n",
              "    <tr style=\"text-align: right;\">\n",
              "      <th></th>\n",
              "      <th>(numerical and categorical with parameter tuning)</th>\n",
              "      <th>Average Hours</th>\n",
              "      <th>Co-relation Score</th>\n",
              "    </tr>\n",
              "  </thead>\n",
              "  <tbody>\n",
              "    <tr>\n",
              "      <th>0</th>\n",
              "      <td>Primary Template/ Estimates</td>\n",
              "      <td>0.181704</td>\n",
              "      <td>0.995963</td>\n",
              "    </tr>\n",
              "    <tr>\n",
              "      <th>1</th>\n",
              "      <td>Primary Actual</td>\n",
              "      <td>0.382233</td>\n",
              "      <td>0.981594</td>\n",
              "    </tr>\n",
              "    <tr>\n",
              "      <th>2</th>\n",
              "      <td>Debur Template/Estimated</td>\n",
              "      <td>0.096796</td>\n",
              "      <td>0.983221</td>\n",
              "    </tr>\n",
              "    <tr>\n",
              "      <th>3</th>\n",
              "      <td>Debur Actual</td>\n",
              "      <td>0.218838</td>\n",
              "      <td>0.931636</td>\n",
              "    </tr>\n",
              "    <tr>\n",
              "      <th>4</th>\n",
              "      <td>Primary+Debur Template</td>\n",
              "      <td>0.232701</td>\n",
              "      <td>0.995375</td>\n",
              "    </tr>\n",
              "    <tr>\n",
              "      <th>5</th>\n",
              "      <td>Primary+Debur Actual</td>\n",
              "      <td>0.472384</td>\n",
              "      <td>0.982669</td>\n",
              "    </tr>\n",
              "  </tbody>\n",
              "</table>\n",
              "</div>\n",
              "      <button class=\"colab-df-convert\" onclick=\"convertToInteractive('df-7dae942c-df27-4687-83d8-f89c72611ec4')\"\n",
              "              title=\"Convert this dataframe to an interactive table.\"\n",
              "              style=\"display:none;\">\n",
              "        \n",
              "  <svg xmlns=\"http://www.w3.org/2000/svg\" height=\"24px\"viewBox=\"0 0 24 24\"\n",
              "       width=\"24px\">\n",
              "    <path d=\"M0 0h24v24H0V0z\" fill=\"none\"/>\n",
              "    <path d=\"M18.56 5.44l.94 2.06.94-2.06 2.06-.94-2.06-.94-.94-2.06-.94 2.06-2.06.94zm-11 1L8.5 8.5l.94-2.06 2.06-.94-2.06-.94L8.5 2.5l-.94 2.06-2.06.94zm10 10l.94 2.06.94-2.06 2.06-.94-2.06-.94-.94-2.06-.94 2.06-2.06.94z\"/><path d=\"M17.41 7.96l-1.37-1.37c-.4-.4-.92-.59-1.43-.59-.52 0-1.04.2-1.43.59L10.3 9.45l-7.72 7.72c-.78.78-.78 2.05 0 2.83L4 21.41c.39.39.9.59 1.41.59.51 0 1.02-.2 1.41-.59l7.78-7.78 2.81-2.81c.8-.78.8-2.07 0-2.86zM5.41 20L4 18.59l7.72-7.72 1.47 1.35L5.41 20z\"/>\n",
              "  </svg>\n",
              "      </button>\n",
              "      \n",
              "  <style>\n",
              "    .colab-df-container {\n",
              "      display:flex;\n",
              "      flex-wrap:wrap;\n",
              "      gap: 12px;\n",
              "    }\n",
              "\n",
              "    .colab-df-convert {\n",
              "      background-color: #E8F0FE;\n",
              "      border: none;\n",
              "      border-radius: 50%;\n",
              "      cursor: pointer;\n",
              "      display: none;\n",
              "      fill: #1967D2;\n",
              "      height: 32px;\n",
              "      padding: 0 0 0 0;\n",
              "      width: 32px;\n",
              "    }\n",
              "\n",
              "    .colab-df-convert:hover {\n",
              "      background-color: #E2EBFA;\n",
              "      box-shadow: 0px 1px 2px rgba(60, 64, 67, 0.3), 0px 1px 3px 1px rgba(60, 64, 67, 0.15);\n",
              "      fill: #174EA6;\n",
              "    }\n",
              "\n",
              "    [theme=dark] .colab-df-convert {\n",
              "      background-color: #3B4455;\n",
              "      fill: #D2E3FC;\n",
              "    }\n",
              "\n",
              "    [theme=dark] .colab-df-convert:hover {\n",
              "      background-color: #434B5C;\n",
              "      box-shadow: 0px 1px 3px 1px rgba(0, 0, 0, 0.15);\n",
              "      filter: drop-shadow(0px 1px 2px rgba(0, 0, 0, 0.3));\n",
              "      fill: #FFFFFF;\n",
              "    }\n",
              "  </style>\n",
              "\n",
              "      <script>\n",
              "        const buttonEl =\n",
              "          document.querySelector('#df-7dae942c-df27-4687-83d8-f89c72611ec4 button.colab-df-convert');\n",
              "        buttonEl.style.display =\n",
              "          google.colab.kernel.accessAllowed ? 'block' : 'none';\n",
              "\n",
              "        async function convertToInteractive(key) {\n",
              "          const element = document.querySelector('#df-7dae942c-df27-4687-83d8-f89c72611ec4');\n",
              "          const dataTable =\n",
              "            await google.colab.kernel.invokeFunction('convertToInteractive',\n",
              "                                                     [key], {});\n",
              "          if (!dataTable) return;\n",
              "\n",
              "          const docLinkHtml = 'Like what you see? Visit the ' +\n",
              "            '<a target=\"_blank\" href=https://colab.research.google.com/notebooks/data_table.ipynb>data table notebook</a>'\n",
              "            + ' to learn more about interactive tables.';\n",
              "          element.innerHTML = '';\n",
              "          dataTable['output_type'] = 'display_data';\n",
              "          await google.colab.output.renderOutput(dataTable, element);\n",
              "          const docLink = document.createElement('div');\n",
              "          docLink.innerHTML = docLinkHtml;\n",
              "          element.appendChild(docLink);\n",
              "        }\n",
              "      </script>\n",
              "    </div>\n",
              "  </div>\n",
              "  "
            ]
          },
          "metadata": {},
          "execution_count": 244
        }
      ]
    }
  ]
}